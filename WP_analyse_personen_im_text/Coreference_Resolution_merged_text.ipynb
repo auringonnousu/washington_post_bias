{
 "cells": [
  {
   "cell_type": "markdown",
   "id": "2437e70a",
   "metadata": {
    "toc": true
   },
   "source": [
    "<h1>Table of Contents<span class=\"tocSkip\"></span></h1>\n",
    "<div class=\"toc\"><ul class=\"toc-item\"></ul></div>"
   ]
  },
  {
   "cell_type": "markdown",
   "id": "84212a0a",
   "metadata": {},
   "source": [
    "requirements:\n",
    "\n",
    "spacy == 2.1.0\n",
    "\n",
    "neuralcoref == 4.0.0\n",
    "\n",
    "Input: Use file from Create_file_for_coref.ipynb"
   ]
  },
  {
   "cell_type": "code",
   "execution_count": null,
   "id": "7d25eaef",
   "metadata": {},
   "outputs": [],
   "source": [
    "import pandas as pd\n",
    "\n",
    "import spacy\n",
    "import neuralcoref\n",
    "\n",
    "from pandarallel import pandarallel\n",
    "pandarallel.initialize(progress_bar=True)\n"
   ]
  },
  {
   "cell_type": "code",
   "execution_count": null,
   "id": "d8166bcb",
   "metadata": {},
   "outputs": [],
   "source": [
    "nlp = spacy.load('en_core_web_lg')\n",
    "neuralcoref.add_to_pipe(nlp)"
   ]
  },
  {
   "cell_type": "code",
   "execution_count": null,
   "id": "b1a0ccb2",
   "metadata": {},
   "outputs": [],
   "source": [
    "df = pd.read_json('/Users/julialandsiedel/Downloads/hundredthousand_wp_merged_text.jsonl', lines=True, orient='records')"
   ]
  },
  {
   "cell_type": "code",
   "execution_count": null,
   "id": "0f62e679",
   "metadata": {},
   "outputs": [],
   "source": [
    "def use_coref(text):\n",
    "    doc = nlp(text)\n",
    "    results = [doc._.coref_resolved]\n",
    "    return results"
   ]
  },
  {
   "cell_type": "code",
   "execution_count": null,
   "id": "df4ca9da",
   "metadata": {},
   "outputs": [],
   "source": [
    "df['text_cf'] = df['merged_total_text'].parallel_apply(use_coref) "
   ]
  },
  {
   "cell_type": "code",
   "execution_count": null,
   "id": "f4e55053",
   "metadata": {},
   "outputs": [],
   "source": [
    "# doc = nlp(df.merged_total_text[1]) "
   ]
  },
  {
   "cell_type": "code",
   "execution_count": null,
   "id": "40918476",
   "metadata": {},
   "outputs": [],
   "source": [
    "# print(doc._.coref_clusters)"
   ]
  },
  {
   "cell_type": "code",
   "execution_count": null,
   "id": "72864388",
   "metadata": {},
   "outputs": [],
   "source": [
    "df.to_json('/hundredthousand_wp_cf_large_combined.jsonl', lines=True, orient='records')"
   ]
  }
 ],
 "metadata": {
  "hide_input": false,
  "kernelspec": {
   "display_name": "Python 3 (ipykernel)",
   "language": "python",
   "name": "python3"
  },
  "language_info": {
   "codemirror_mode": {
    "name": "ipython",
    "version": 3
   },
   "file_extension": ".py",
   "mimetype": "text/x-python",
   "name": "python",
   "nbconvert_exporter": "python",
   "pygments_lexer": "ipython3",
   "version": "3.7.10"
  },
  "toc": {
   "base_numbering": 1,
   "nav_menu": {},
   "number_sections": true,
   "sideBar": true,
   "skip_h1_title": false,
   "title_cell": "Table of Contents",
   "title_sidebar": "Contents",
   "toc_cell": true,
   "toc_position": {},
   "toc_section_display": true,
   "toc_window_display": false
  }
 },
 "nbformat": 4,
 "nbformat_minor": 5
}
