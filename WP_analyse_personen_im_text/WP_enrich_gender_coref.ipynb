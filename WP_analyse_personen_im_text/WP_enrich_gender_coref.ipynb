{
 "cells": [
  {
   "cell_type": "markdown",
   "metadata": {},
   "source": [
    "# Enrich Gender \n",
    "with Gender Guesser (https://pypi.org/project/gender-guesser/) and Wikipedia File (https://github.com/irgroup-classrooms/dis22-2022/tree/64-finaler-dcatensatz-mit-klickzahlen/finalDataset)\n",
    "\n",
    "\n",
    "Input file 'WP_article_coref_NER_large_final.pkl' from nb Washington_Post_w_coref.ipynb\n",
    "\n",
    "Output file for Auswertung_WP_Gender_im_article_w_coref.ipynb"
   ]
  },
  {
   "cell_type": "markdown",
   "metadata": {},
   "source": [
    "### Preliminaries"
   ]
  },
  {
   "cell_type": "code",
   "execution_count": 1,
   "metadata": {},
   "outputs": [
    {
     "name": "stdout",
     "output_type": "stream",
     "text": [
      "INFO: Pandarallel will run on 8 workers.\n",
      "INFO: Pandarallel will use standard multiprocessing data transfer (pipe) to transfer data between the main process and workers.\n"
     ]
    }
   ],
   "source": [
    "# Import \n",
    "import pandas as pd\n",
    "\n",
    "import warnings\n",
    "warnings.filterwarnings('ignore') # (action='once')\n",
    "\n",
    "from pandarallel import pandarallel\n",
    "pandarallel.initialize(progress_bar=True)\n"
   ]
  },
  {
   "cell_type": "code",
   "execution_count": 2,
   "metadata": {},
   "outputs": [],
   "source": [
    "# Read file\n",
    "df = pd.read_pickle('/Users/landsiedelj/washington_post_bias/WP_article_coref_NER_large_final.pkl')"
   ]
  },
  {
   "cell_type": "markdown",
   "metadata": {},
   "source": [
    "## Split first, middle and last name in different cols"
   ]
  },
  {
   "cell_type": "code",
   "execution_count": 3,
   "metadata": {},
   "outputs": [],
   "source": [
    "# Write first, middle and last name in different cols\n",
    "def split_name(df, var):\n",
    "    sub_df = df[var].str.split('\\\\s+', expand=True)\n",
    "    result = []\n",
    "\n",
    "    for _, row in sub_df.iterrows():\n",
    "        info = {'first_name': '', 'middle_name': '', 'middle_name': ''}\n",
    "        n = row.count()\n",
    "\n",
    "        if n == 0:\n",
    "            pass\n",
    "        elif n == 1:\n",
    "            info['first_name'] = row.iloc[0]\n",
    "        elif n == 2:\n",
    "            info['first_name'], info['last_name'] = row.iloc[:2]\n",
    "        else:\n",
    "            info['first_name'] = row.iloc[0]\n",
    "            info['last_name'] = row.iloc[-1]\n",
    "            info['middle_name'] = ' '.join([(string or '') for string in row.iloc[1:-1]])\n",
    "        result.append(info)\n",
    "    return pd.DataFrame(result, index=df.index)\n",
    "\n",
    "df_names = split_name(df, 'entity')\n",
    "df = df.join(df_names)"
   ]
  },
  {
   "cell_type": "markdown",
   "metadata": {},
   "source": [
    "# Enrich gender with different options"
   ]
  },
  {
   "cell_type": "markdown",
   "metadata": {},
   "source": [
    "## Wikipedia File"
   ]
  },
  {
   "cell_type": "code",
   "execution_count": 4,
   "metadata": {},
   "outputs": [],
   "source": [
    "df_person = pd.read_excel('/Users/landsiedelj/Downloads/WikiPersonen_lebend_mitGeschlecht_mitGeburtsland_mitBerufskategorien_mitKlickzahlen.xlsx')\n"
   ]
  },
  {
   "cell_type": "code",
   "execution_count": 5,
   "metadata": {},
   "outputs": [],
   "source": [
    "# Cleaning df_person\n",
    "wiki_dictionary = {\n",
    "                \"entity_per\": \"wikipedia_eintrag\",\n",
    "                \"Name, Vorname\": \"name_vorname\"\n",
    "                }\n",
    "    \n",
    "df_person = df_person.copy()\n",
    "df_person.rename(columns = wiki_dictionary, inplace=True)"
   ]
  },
  {
   "cell_type": "code",
   "execution_count": 6,
   "metadata": {},
   "outputs": [],
   "source": [
    "# Strip whitespace\n",
    "df_person['wikipedia_eintrag'] = df_person['wikipedia_eintrag'].str.split(',').str[-1].str.lstrip() # del whitespace"
   ]
  },
  {
   "cell_type": "code",
   "execution_count": 7,
   "metadata": {},
   "outputs": [],
   "source": [
    "df_person['wikipedia_eintrag'] = df_person['wikipedia_eintrag'].str.replace(r'\\(.*\\)', '') # del everything in parenthesis\n",
    "# df_person = df_person.apply(lambda x: x.astype(str).str.lower())\n",
    "df_person['wikipedia_eintrag'] = df_person['wikipedia_eintrag'].str.rstrip() # del whitespace"
   ]
  },
  {
   "cell_type": "code",
   "execution_count": 8,
   "metadata": {},
   "outputs": [],
   "source": [
    "df['wiki_gender'] = df.entity.map(df_person.set_index('wikipedia_eintrag')['Geschlecht'].to_dict())"
   ]
  },
  {
   "cell_type": "code",
   "execution_count": 9,
   "metadata": {},
   "outputs": [
    {
     "name": "stdout",
     "output_type": "stream",
     "text": [
      "male          766805\n",
      "female        138526\n",
      "non-binary       331\n",
      "Name: wiki_gender, dtype: int64\n",
      "1867609\n"
     ]
    }
   ],
   "source": [
    "print(df.wiki_gender.value_counts())\n",
    "print(df.wiki_gender.isnull().sum())"
   ]
  },
  {
   "cell_type": "markdown",
   "metadata": {},
   "source": [
    "## Gender Guesser\n",
    "\n",
    "Get gender from https://pypi.org/project/gender-guesser/"
   ]
  },
  {
   "cell_type": "code",
   "execution_count": 10,
   "metadata": {},
   "outputs": [
    {
     "data": {
      "application/vnd.jupyter.widget-view+json": {
       "model_id": "7dfb33a66b0d449586bad81456625a0b",
       "version_major": 2,
       "version_minor": 0
      },
      "text/plain": [
       "VBox(children=(HBox(children=(IntProgress(value=0, description='0.00%', max=346659), Label(value='0 / 346659')…"
      ]
     },
     "metadata": {},
     "output_type": "display_data"
    }
   ],
   "source": [
    "# !pip install gender_guesser    \n",
    "import gender_guesser.detector as gender\n",
    "gd = gender.Detector()\n",
    "df['gender_guesser'] = df['first_name'].parallel_apply(str.capitalize).map(lambda x: gd.get_gender(x))"
   ]
  },
  {
   "cell_type": "markdown",
   "metadata": {},
   "source": [
    "> __unknown__ (name not found),\n",
    " __andy__ (androgynous), \n",
    " __male__, \n",
    " __female__, \n",
    " __mostly_male__, \n",
    " or __mostly_female__. \n",
    " \n",
    " The difference between andy and unknown is that the former is found to have the same probability to be male than to be female, while the later means that the name wasn’t found in the database."
   ]
  },
  {
   "cell_type": "code",
   "execution_count": 11,
   "metadata": {},
   "outputs": [
    {
     "data": {
      "text/plain": [
       "male             1498199\n",
       "unknown           670073\n",
       "female            394742\n",
       "mostly_male       101044\n",
       "mostly_female      74283\n",
       "andy               34930\n",
       "Name: gender_guesser, dtype: int64"
      ]
     },
     "execution_count": 11,
     "metadata": {},
     "output_type": "execute_result"
    }
   ],
   "source": [
    "df.gender_guesser.value_counts()"
   ]
  },
  {
   "cell_type": "code",
   "execution_count": 12,
   "metadata": {},
   "outputs": [],
   "source": [
    "# Combine both columns\n",
    "df.wiki_gender.fillna(df.gender_guesser, inplace=True)"
   ]
  },
  {
   "cell_type": "code",
   "execution_count": 13,
   "metadata": {},
   "outputs": [],
   "source": [
    "# Delete not needed col\n",
    "del df['gender_guesser']\n",
    "del df['first_name']\n",
    "del df['middle_name']\n",
    "del df['last_name']\n",
    "del df['merged_total_text']\n",
    "del df['entity_type']"
   ]
  },
  {
   "cell_type": "code",
   "execution_count": 14,
   "metadata": {},
   "outputs": [
    {
     "name": "stdout",
     "output_type": "stream",
     "text": [
      "male             1607892\n",
      "unknown           612385\n",
      "female            406255\n",
      "mostly_male        69321\n",
      "mostly_female      49677\n",
      "andy               27410\n",
      "non-binary           331\n",
      "Name: wiki_gender, dtype: int64\n"
     ]
    }
   ],
   "source": [
    "print(df.wiki_gender.value_counts())"
   ]
  },
  {
   "cell_type": "code",
   "execution_count": 15,
   "metadata": {},
   "outputs": [],
   "source": [
    "# df.to_json('WP_article_100K_with_gender.jsonl', lines=True, orient='records')\n",
    "df.to_pickle('/Users/landsiedelj/Downloads/wp_final/WP_article_100K_with_coref_gender_final.pkl')"
   ]
  }
 ],
 "metadata": {
  "kernelspec": {
   "display_name": "Python 3.9.10 ('base')",
   "language": "python",
   "name": "python3"
  },
  "language_info": {
   "codemirror_mode": {
    "name": "ipython",
    "version": 3
   },
   "file_extension": ".py",
   "mimetype": "text/x-python",
   "name": "python",
   "nbconvert_exporter": "python",
   "pygments_lexer": "ipython3",
   "version": "3.9.10"
  },
  "orig_nbformat": 4,
  "vscode": {
   "interpreter": {
    "hash": "3d1c3d4a7f8058a677e0e869aeedd37e6b716847110188d754d93c56bb0e75db"
   }
  }
 },
 "nbformat": 4,
 "nbformat_minor": 2
}
