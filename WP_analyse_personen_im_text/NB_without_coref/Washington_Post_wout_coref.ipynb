{
 "cells": [
  {
   "cell_type": "code",
   "execution_count": 1,
   "metadata": {},
   "outputs": [
    {
     "name": "stdout",
     "output_type": "stream",
     "text": [
      "INFO: Pandarallel will run on 8 workers.\n",
      "INFO: Pandarallel will use standard multiprocessing data transfer (pipe) to transfer data between the main process and workers.\n"
     ]
    }
   ],
   "source": [
    "import pandas as pd\n",
    "\n",
    "\n",
    "import spacy\n",
    "import en_core_web_trf\n",
    "\n",
    "nlp = spacy.load(\"en_core_web_trf\")\n",
    "\n",
    "from spacy.matcher import PhraseMatcher\n",
    "from spacy.tokens import Span\n",
    "\n",
    "import warnings\n",
    "warnings.filterwarnings('ignore') # (action='once')\n",
    "\n",
    "from pandarallel import pandarallel\n",
    "pandarallel.initialize(progress_bar=True)\n"
   ]
  },
  {
   "cell_type": "code",
   "execution_count": 2,
   "metadata": {},
   "outputs": [],
   "source": [
    "df = pd.read_json('/Users/landsiedelj/Downloads/hundredthousand_wp_merged_text_small.jsonl', lines=True, orient='records')"
   ]
  },
  {
   "cell_type": "code",
   "execution_count": 3,
   "metadata": {},
   "outputs": [
    {
     "data": {
      "text/html": [
       "<div>\n",
       "<style scoped>\n",
       "    .dataframe tbody tr th:only-of-type {\n",
       "        vertical-align: middle;\n",
       "    }\n",
       "\n",
       "    .dataframe tbody tr th {\n",
       "        vertical-align: top;\n",
       "    }\n",
       "\n",
       "    .dataframe thead th {\n",
       "        text-align: right;\n",
       "    }\n",
       "</style>\n",
       "<table border=\"1\" class=\"dataframe\">\n",
       "  <thead>\n",
       "    <tr style=\"text-align: right;\">\n",
       "      <th></th>\n",
       "      <th>id</th>\n",
       "      <th>article_url</th>\n",
       "      <th>title</th>\n",
       "      <th>author</th>\n",
       "      <th>published_date</th>\n",
       "      <th>type</th>\n",
       "      <th>source</th>\n",
       "      <th>publish_date</th>\n",
       "      <th>orig-id</th>\n",
       "      <th>merged_total_text</th>\n",
       "      <th>text_cf</th>\n",
       "    </tr>\n",
       "  </thead>\n",
       "  <tbody>\n",
       "    <tr>\n",
       "      <th>0</th>\n",
       "      <td>ABM35HDPIII6RP4GUI2RWXWOTE</td>\n",
       "      <td>/opinions/the-hollow-compassion-of-trump-wary-...</td>\n",
       "      <td>Trump’s America goes full Charles Dickens</td>\n",
       "      <td>Dana Milbank</td>\n",
       "      <td>NaN</td>\n",
       "      <td>None</td>\n",
       "      <td>None</td>\n",
       "      <td>NaN</td>\n",
       "      <td>None</td>\n",
       "      <td>Trump’s America goes full Charles Dickens. Tru...</td>\n",
       "      <td>[Trump’s America goes full Charles Dickens. Tr...</td>\n",
       "    </tr>\n",
       "    <tr>\n",
       "      <th>1</th>\n",
       "      <td>7f4cc4bc-351a-11e4-9e92-0899b306bbea</td>\n",
       "      <td>https://www.washingtonpost.com/local/u-md-bask...</td>\n",
       "      <td>U-Md. basketball arena is transformed into mak...</td>\n",
       "      <td>Karen Chen</td>\n",
       "      <td>1.409960e+12</td>\n",
       "      <td>article</td>\n",
       "      <td>The Washington Post</td>\n",
       "      <td>NaN</td>\n",
       "      <td>None</td>\n",
       "      <td>U-Md. basketball arena is transformed into mak...</td>\n",
       "      <td>[U-Md. basketball arena is transformed into ma...</td>\n",
       "    </tr>\n",
       "  </tbody>\n",
       "</table>\n",
       "</div>"
      ],
      "text/plain": [
       "                                     id  \\\n",
       "0            ABM35HDPIII6RP4GUI2RWXWOTE   \n",
       "1  7f4cc4bc-351a-11e4-9e92-0899b306bbea   \n",
       "\n",
       "                                         article_url  \\\n",
       "0  /opinions/the-hollow-compassion-of-trump-wary-...   \n",
       "1  https://www.washingtonpost.com/local/u-md-bask...   \n",
       "\n",
       "                                               title        author  \\\n",
       "0          Trump’s America goes full Charles Dickens  Dana Milbank   \n",
       "1  U-Md. basketball arena is transformed into mak...    Karen Chen   \n",
       "\n",
       "   published_date     type               source  publish_date orig-id  \\\n",
       "0             NaN     None                 None           NaN    None   \n",
       "1    1.409960e+12  article  The Washington Post           NaN    None   \n",
       "\n",
       "                                   merged_total_text  \\\n",
       "0  Trump’s America goes full Charles Dickens. Tru...   \n",
       "1  U-Md. basketball arena is transformed into mak...   \n",
       "\n",
       "                                             text_cf  \n",
       "0  [Trump’s America goes full Charles Dickens. Tr...  \n",
       "1  [U-Md. basketball arena is transformed into ma...  "
      ]
     },
     "execution_count": 3,
     "metadata": {},
     "output_type": "execute_result"
    }
   ],
   "source": [
    "df.head(2)"
   ]
  },
  {
   "cell_type": "code",
   "execution_count": 5,
   "metadata": {},
   "outputs": [],
   "source": [
    "# df['text_cf'] = [','.join(map(str, l)) for l in df['text_cf']]\n"
   ]
  },
  {
   "cell_type": "code",
   "execution_count": 4,
   "metadata": {},
   "outputs": [
    {
     "name": "stderr",
     "output_type": "stream",
     "text": [
      "100%|██████████| 1000/1000 [09:51<00:00,  1.69it/s]\n"
     ]
    }
   ],
   "source": [
    "# write entity in parsed_articles \n",
    "import tqdm\n",
    "parsed_articles = []\n",
    "for article, id in tqdm.tqdm(zip(df['merged_total_text'], df['id']), total=len(df)):\n",
    "    parsed_articles.extend([[id, str(entity), entity.label_] for entity  in nlp(article).ents])"
   ]
  },
  {
   "cell_type": "code",
   "execution_count": 5,
   "metadata": {},
   "outputs": [],
   "source": [
    "# create dfs from entities\n",
    "df_2 = pd.DataFrame(parsed_articles, columns=['id', 'merged_total_text', 'entity_type'])\n",
    "\n",
    "# rename columns for one df\n",
    "df_2.rename(columns={'merged_total_text': 'entity'}, inplace=True)"
   ]
  },
  {
   "cell_type": "code",
   "execution_count": 6,
   "metadata": {},
   "outputs": [],
   "source": [
    "# merge back to initial df\n",
    "df = (pd.merge(df, df_2, on='id'))"
   ]
  },
  {
   "cell_type": "code",
   "execution_count": 7,
   "metadata": {},
   "outputs": [],
   "source": [
    "df = (df.loc[df['entity_type'].isin(['PERSON'])])"
   ]
  },
  {
   "cell_type": "code",
   "execution_count": 8,
   "metadata": {},
   "outputs": [],
   "source": [
    "df['entity'] = df['entity'].str.strip()\n",
    "df['entity'] = df['entity'].str.replace('[\\[\\]\\\"\\'\\d\\,\\<\\/]','')"
   ]
  },
  {
   "cell_type": "code",
   "execution_count": 9,
   "metadata": {},
   "outputs": [],
   "source": [
    "# Replace acronyms\n",
    "df['entity'] = df['entity'].str.replace('JFK','John Fitzgerald Kennedy').replace('FDR','Franklin Delano Roosevelt')"
   ]
  },
  {
   "cell_type": "code",
   "execution_count": 13,
   "metadata": {},
   "outputs": [],
   "source": [
    "# TO do: write into dict\n",
    "# Unification of entity\n",
    "df['entity'] = df['entity'].str.replace('JFK','John Fitzgerald Kennedy').replace('FDR','Franklin Delano Roosevelt').replace('Sting','Gordon Matthew Sumner')\n",
    "df['entity'] = df['entity'].str.replace(\"Pelosi\", \"Nancy Pelosi\").replace(\"Reagan\", \"Ronald Reagan\")\n",
    "df['entity'] = df['entity'].str.replace(\"Christie\", \"Chris Christie\").replace(\"Strasburg\", \"Stephen Strasburg\")\n",
    "df['entity'] = df['entity'].str.replace(\"Ovechkin\", \"Alexander Ovechkin\").replace(\"Wall\", \"John Wall\").replace(\"Cousins\", \"Kirk Cousins\").replace(\"Boehner\", \"John Boehner\")\n",
    "df['entity'] = df['entity'].str.replace(\"Graham\", \"Lindsey Graham\").replace(\"Comey\", \"James Comey\").replace(\"Hogan\", \"Larry Hogan\")\n",
    "df['entity'] = df['entity'].str.replace(\"Gruden\", \"Jay Gruden\").replace(\"Harris\", \"Kamala Harris\")replace(\"Brady\", \"Tom Brady\").replace(\"Netanyahu\", \"Benjamin Netanyahu\")\n",
    "df['entity'] = df['entity'].str.replace(\"McConnell\", \"Mitchell McConnell\").replace(\"Mitch McConnell\", \"Mitchell McConnell\").replace(\"Vladimir Wladimir Putin\", \"Wladimir Wladimirowitsch Putin\")\n",
    "df['entity'] = df['entity'].str.replace(\"Cheney\", \"Liz Cheney\").replace(\"Bowser\", \"Muriel Bowser\").replace(\"Turgeon\", \"Mark Turgeon\")\n",
    "df['entity'] = df['entity'].str.replace(\"Manafort\", \"Paul Manafort\").replace(\"Sessions\", \"Jeff Sessions\")\n",
    "df['entity'] = df['entity'].str.replace(\"Giuliani\", \"Rudolph Giuliani\").replace(\"Rudy Rudolph Giuliani\", \"Rudolph Giuliani\")\n",
    "df['entity'] = df['entity'].str.replace(\"Nixon\", \"Richard Nixon\").replace(\"McCain\", \"John McCain\").replace(\"McAuliffe\", \"Terence McAuliffe\")\n",
    "df['entity'] = df['entity'].str.replace(\"Yellen\", \"Janet Yellen\").replace(\"Trotz\", \"Barry Trotz\").replace(\"Scherzer\", \"Max Scherzer\")\n",
    "df['entity'] = df['entity'].str.replace(\"Barack Obama’s\", \"Barack Obama\").replace(\"Obama’s\", \"Barack Obama\").replace(\"Obama\", \"Barack Obama\").replace(\"Barack Barack Obama\", \"Barack Obama\")\n",
    "df['entity'] = df['entity'].str.replace(\"Clinton\", \"Hillary Clinton\").replace(\"Hillary Rodham Clinton\", \"Hillary Clinton\")\n",
    "df['entity'] = df['entity'].str.replace(\"Putin\", \"Wladimir Wladimirowitsch Putin\").replace(\"Vladimir Putin\", \"Wladimir Wladimirowitsch Putin\")\n",
    "df['entity'] = df['entity'].str.replace(\"Cruz\", \"Ted Cruz\").replace(\"Pence\", \"Mike Pence\").replace(\"Woods\", \"Tiger Woods\").replace(\"Zimmerman\", \"Ryan Zimmerman\").replace(\"Kasich\", \"John Kasich\")\n",
    "df['entity'] = df['entity'].str.replace(\"Biden\", \"Joe Biden\").replace(\"Mueller\", \"Robert Mueller\").replace(\"Trump\", \"Donald Trump\")\n",
    "df['entity'] = df['entity'].str.replace(\"Kavanaugh\", \"Brett Kavanaugh\").replace(\"Rubio\", \"Marco Rubio\").replace(\"Buttigieg\", \"Pete Buttigieg\").replace(\"Pompeo\", \"Mike Pompeo\")\n",
    "df['entity'] = df['entity'].str.replace(\"Maduro\", \"Nicolás Maduro\").replace(\"Rizzo\", \"Anthony Rizzo\").replace(\"Sondland\", \"Gordon Sondland\")\n",
    "df['entity'] = df['entity'].str.replace(\"Erdogan\", \"Recep Tayyip Erdoğan\").replace(\"Holtby\", \"Braden Holtby\").replace(\"Bannon\", \"Steve Bannon\")\n",
    "df['entity'] = df['entity'].str.replace(\"Cuccinelli\", \"Ken Cuccinelli\").replace(\"Kenneth Ken Cuccinelli\", \"Ken Cuccinelli\")\n",
    "df['entity'] = df['entity'].str.replace(\"Donald Trump’s\", \"Donald Trump\").replace(\"Snowden\", \"Edward Snowden\").replace(\"Kushner\", \"Jared Kushner\")\n",
    "df['entity'] = df['entity'].str.replace(\"Alex Alexander Ovechkin\", \"Alexander Ovechkin\").replace(\"Hillary Clinton’s\", \"Hillary Clinton\")\n",
    "df['entity'] = df['entity'].str.replace(\"Zelensky\", \"Wolodymyr Selenskyj\").replace(\"Volodymyr Zelenskyy\", \"Wolodymyr Selenskyj\")\n",
    "df['entity'] = df['entity'].str.replace(\"Bashar al-Baschar Assad\", \"Bashar Assad\").replace(\"Assad\", \"Bashar Assad\").replace(\"Shanahan\", \"Mike Shanahan\")\n",
    "df['entity'] = df['entity'].str.replace(\"Khashoggi\", \"Jamal Khashoggi\").replace(\"Castro\", \"Fidel Castro\").replace(\"Tillerson\", \"Rex Tillerson\")\n",
    "df['entity'] = df['entity'].str.replace(\"RGIII\", \"Robert Griffin III\")\n",
    "df['entity'] = df['entity'].str.replace(\"Xi\", \"Xi Jinping\").replace(\"Xi Xi Jinping\", \"Xi Jinping\").replace(\"Xi Jinping Jinping\", \"Xi Jinping\")\n",
    "df['entity'] = df['entity'].str.replace(\"Macron\", \"Emmanuel Macron\").replace(\"Emmanuel Emmanuel Macron\", \"Emmanuel Macron\")\n",
    "df['entity'] = df['entity'].str.replace(\"Gingrich\", \"Newton Gingrich\").replace(\"Newton Newton Gingrich\", \"Newton Gingrich\").replace(\"Newt Newton Gingrich\", \"Newton Gingrich\")\n",
    "df['entity'] = df['entity'].str.replace(\"Donald Donald Trump\", \"Donald Trump\")\n",
    "df['entity'] = df['entity'].str.replace(\"Vladimir Wladimir Putin\", \"Wladimir Wladimirowitsch Putin\")\n",
    "df['entity'] = df['entity'].str.replace(\"Bashar al-Baschar Assad\", \"Bashar Assad\").replace(\"Assad\", \"Bashar Assad\").replace(\"Kim Jong Un\", \"Kim Jong-un\")\n",
    "df['entity'] = df['entity'].str.replace(\"Hitler\", \"Adolf Hitler\").str.replace(\"Adolf Adolf Hitler\", \"Adolf Hitler\")\n",
    "df['entity'] = df['entity'].str.replace(\"Volodymyr Wolodymyr Selenskyj\", \"Wolodymyr Selenskyj\")\n",
    "df['entity'] = df['entity'].str.replace(\"Bashar al-Assad\", \"Bashar Assad\").replace('Roosevelt','Theodore Roosevelt')\n",
    "df['entity'] = df['entity'].str.replace(\"Hillary Clintons\", \"Hillary Clinton\").replace(\"Ivanka Donald Trump\", \"Ivanka Trump\")\n",
    "df['entity'] = df['entity'].str.replace(\"Spicer\", \"Sean Spicer\").replace(\"Shakespeare\", \"William Shakespeare\")\n",
    "df['entity'] = df['entity'].str.replace(\"Santorum\", \"Rick Santorum\").replace(\"Rick Santorum\", \"Richard Santorum\")\n",
    "df['entity'] = df['entity'].str.replace(\"Beal\", \"Bradley Beal\").replace('Rosenstein','Rod Rosenstein')\n",
    "df['entity'] = df['entity'].str.replace('Kardashian','Kim Kardashian').replace('da Gama’s','Vasco da Gama').replace('@CindyBoren on','Cindy Boren').replace('Bourdain','Anthony Bourdain')\n",
    "df['entity'] = df['entity'].str.replace('Costello','Elvis Costello').replace('Romney','Mitt Romney').replace('Trudeau','Justin Trudeau').replace(\"Duterte\",\"Rodrigo Duterte\")\n",
    "df['entity'] = df['entity'].str.replace('Franklin Delano Theodore Roosevelt','Franklin Delano Roosevelt').replace('Franklin D. Theodore Roosevelt','Franklin Delano Roosevelt')"
   ]
  },
  {
   "cell_type": "code",
   "execution_count": 10,
   "metadata": {},
   "outputs": [],
   "source": [
    "df = df[df['author'] != df['entity']] # if author is in col entity -> remove, we only want \"Person\" from within the article"
   ]
  },
  {
   "cell_type": "code",
   "execution_count": null,
   "metadata": {},
   "outputs": [],
   "source": [
    "df.to_pickle('/Users/landsiedelj/washington_post_bias/WP_article_NER_large_final.pkl')"
   ]
  }
 ],
 "metadata": {
  "kernelspec": {
   "display_name": "Python 3.9.10 ('base')",
   "language": "python",
   "name": "python3"
  },
  "language_info": {
   "codemirror_mode": {
    "name": "ipython",
    "version": 3
   },
   "file_extension": ".py",
   "mimetype": "text/x-python",
   "name": "python",
   "nbconvert_exporter": "python",
   "pygments_lexer": "ipython3",
   "version": "3.9.10"
  },
  "orig_nbformat": 4,
  "vscode": {
   "interpreter": {
    "hash": "3d1c3d4a7f8058a677e0e869aeedd37e6b716847110188d754d93c56bb0e75db"
   }
  }
 },
 "nbformat": 4,
 "nbformat_minor": 2
}
