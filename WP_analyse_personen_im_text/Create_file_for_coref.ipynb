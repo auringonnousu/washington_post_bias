{
 "cells": [
  {
   "cell_type": "code",
   "execution_count": null,
   "metadata": {},
   "outputs": [],
   "source": [
    "df = pd.read_csv('/Users/landsiedelj/Downloads/hundertausend_csv.csv')"
   ]
  },
  {
   "cell_type": "code",
   "execution_count": null,
   "metadata": {},
   "outputs": [],
   "source": [
    "%%time\n",
    "def createText(x):\n",
    "    try:\n",
    "        import pandas as pd\n",
    "        dfcontent = pd.json_normalize(x.content, max_level=1)\n",
    "        dfcontent = dfcontent[dfcontent.subtype == 'paragraph']\n",
    "        #dfcontent = dfcontent[dfcontent.mime == 'text/html']\n",
    "        contentText = ''\n",
    "        \n",
    "        for index, row in dfcontent.iterrows():\n",
    "            contentText += row[\"content\"]\n",
    "            contentText += ' '\n",
    "            \n",
    "            import re\n",
    "            contentText = re.sub('<[^<]+?>', '', contentText)\n",
    "            contentText = contentText.replace(u'\\xa0', u' ')\n",
    "        #return dfcontent\n",
    "        return contentText\n",
    "    except:\n",
    "        return None\n",
    "\n",
    "# converts the epochs datetime to a normale datestring\n",
    "df['text'] = df.parallel_apply(createText, axis=1)\n",
    "\n",
    "# if content json is converted in text delete the column\n",
    "# !!! df = df.drop(columns='content')"
   ]
  },
  {
   "cell_type": "code",
   "execution_count": null,
   "metadata": {},
   "outputs": [],
   "source": [
    "def cleaning_for_NER(df):\n",
    "    \n",
    "    dictionary = {\n",
    "              \"post_id\"                : \"id\",\n",
    "              \"text\"                : \"article_text\"\n",
    "                }\n",
    "    \n",
    "    df = df.copy()\n",
    "    df.rename(columns=dictionary, inplace=True)  # rename columns\n",
    "    df.drop_duplicates(subset=['id'], inplace=True)\n",
    "\n",
    "    # Remove \"\\n\" in article_text\n",
    "    #df[\"content\"] = df[\"content\"].apply(lambda x: re.sub(\"\\{'content': '\",\" \", str(x)))\n",
    " \n",
    "    return df    "
   ]
  },
  {
   "cell_type": "code",
   "execution_count": null,
   "metadata": {},
   "outputs": [],
   "source": [
    "# Safe cleaned data in new df\n",
    "df = cleaning_for_NER(df)"
   ]
  },
  {
   "cell_type": "code",
   "execution_count": null,
   "metadata": {},
   "outputs": [],
   "source": [
    "# drop empty rows\n",
    "nan_value = float(\"NaN\")\n",
    "#df.replace(\"\", 'no title', inplace=True)\n",
    "df[\"title\"].replace(np.NaN, '', inplace=True)\n",
    "df[\"article_text\"].replace(np.NaN, '', inplace=True)\n",
    "\n",
    "#df.dropna(subset = [\"title\"], inplace=True)"
   ]
  },
  {
   "cell_type": "code",
   "execution_count": null,
   "metadata": {},
   "outputs": [],
   "source": [
    "# Combine column \"title\" & \"content\" into \"merged_total_text\":\n",
    "df['merged_total_text'] = df.apply(lambda r: r['title'] + '. '+ r['article_text'], axis=1)"
   ]
  },
  {
   "cell_type": "code",
   "execution_count": null,
   "metadata": {},
   "outputs": [],
   "source": [
    "del df['article_text']\n",
    "del df['content']"
   ]
  },
  {
   "cell_type": "code",
   "execution_count": null,
   "metadata": {},
   "outputs": [],
   "source": [
    "df.to_json('/Users/landsiedelj/Downloads/hundredthousand_wp_merged_text.jsonl', lines=True, orient='records')"
   ]
  }
 ],
 "metadata": {
  "kernelspec": {
   "display_name": "Python 3.9.10 ('base')",
   "language": "python",
   "name": "python3"
  },
  "language_info": {
   "name": "python",
   "version": "3.9.10"
  },
  "orig_nbformat": 4,
  "vscode": {
   "interpreter": {
    "hash": "3d1c3d4a7f8058a677e0e869aeedd37e6b716847110188d754d93c56bb0e75db"
   }
  }
 },
 "nbformat": 4,
 "nbformat_minor": 2
}
