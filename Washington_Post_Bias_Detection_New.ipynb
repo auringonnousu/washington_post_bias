{
 "cells": [
  {
   "cell_type": "markdown",
   "id": "cf9c5505",
   "metadata": {
    "toc": true
   },
   "source": [
    " Todo: Aktualisieren:\n",
    "<h1>Table of Contents<span class=\"tocSkip\"></span></h1>\n",
    "<div class=\"toc\"><ul class=\"toc-item\">\n",
    "    <li><span><a href=\"#|-Preliminaries\" data-toc-modified-id=\"|-Preliminaries-1\"><span class=\"toc-item-num\">1&nbsp;&nbsp;</span>| Preliminaries</a></span></li><li><span><a href=\"#|-Cleaning\" data-toc-modified-id=\"|-Cleaning-2\"><span class=\"toc-item-num\">2&nbsp;&nbsp;</span>| Cleaning</a></span></li><li><span><a href=\"#|-Named-Entity-Recognition-w/-spaCy\" data-toc-modified-id=\"|-Named-Entity-Recognition-w/-spaCy-3\"><span class=\"toc-item-num\">3&nbsp;&nbsp;</span>| Named Entity Recognition w/ spaCy</a></span><ul class=\"toc-item\"><li><span><a href=\"#Split-first,-middle-and-last-name-in-different-cols\" data-toc-modified-id=\"Split-first,-middle-and-last-name-in-different-cols-3.1\"><span class=\"toc-item-num\">3.1&nbsp;&nbsp;</span>Split first, middle and last name in different cols</a></span></li><li><span><a href=\"#|-Enrich-first-name-if-only-last-name-is-mentioned\" data-toc-modified-id=\"|-Enrich-first-name-if-only-last-name-is-mentioned-3.2\"><span class=\"toc-item-num\">3.2&nbsp;&nbsp;</span>| Enrich first name if only last name is mentioned</a></span></li></ul></li><li><span><a href=\"#|-Gender-Guesser\" data-toc-modified-id=\"|-Gender-Guesser-4\"><span class=\"toc-item-num\">4&nbsp;&nbsp;</span>| Gender Guesser</a></span></li><li><span><a href=\"#|-Group-per-article-and-get-share-of-gender-per-article\" data-toc-modified-id=\"|-Group-per-article-and-get-share-of-gender-per-article-5\"><span class=\"toc-item-num\">5&nbsp;&nbsp;</span>| Group per article and get share of gender per article</a></span></li><li><span><a href=\"#|-Wikidata-Query\" data-toc-modified-id=\"|-Wikidata-Query-6\"><span class=\"toc-item-num\">6&nbsp;&nbsp;</span>| Wikidata Query</a></span></li></ul></div>"
   ]
  },
  {
   "cell_type": "markdown",
   "id": "a599aa92",
   "metadata": {},
   "source": [
    "---\n",
    "# | Preliminaries"
   ]
  },
  {
   "cell_type": "code",
   "execution_count": 1,
   "id": "2255e98a",
   "metadata": {},
   "outputs": [],
   "source": [
    "import os\n",
    "import json\n",
    "import pandas as pd\n",
    "import numpy as np\n",
    "import regex as re\n",
    "from pandarallel import pandarallel\n",
    "import pathlib\n",
    "import matplotlib.pyplot as plt\n",
    "\n",
    "#from bs4 import BeautifulSoup as bs\n",
    "\n",
    "# SpaCy \n",
    "import spacy\n",
    "import en_core_web_trf\n",
    "import en_core_web_md\n",
    "import en_core_web_sm\n",
    "\n",
    "from vaderSentiment.vaderSentiment import SentimentIntensityAnalyzer\n",
    "import nltk\n",
    "\n",
    "# TRF Orininal / Md schneller\n",
    "nlp = spacy.load(\"en_core_web_md\")\n",
    "# JULIA nlp = spacy.load(\"en_core_web_trf\")\n",
    "\n",
    "from spacy.matcher import PhraseMatcher\n",
    "from spacy.tokens import Span\n",
    "\n",
    "import warnings\n",
    "warnings.filterwarnings('ignore') # (action='once')\n",
    "\n",
    "import tqdm"
   ]
  },
  {
   "cell_type": "code",
   "execution_count": 5,
   "id": "2cd46d33",
   "metadata": {},
   "outputs": [
    {
     "name": "stdout",
     "output_type": "stream",
     "text": [
      "INFO: Pandarallel will run on 4 workers.\n",
      "INFO: Pandarallel will use standard multiprocessing data transfer (pipe) to transfer data between the main process and workers.\n"
     ]
    }
   ],
   "source": [
    "pandarallel.initialize(progress_bar=True)\n",
    "#pandarallel.initialize()"
   ]
  },
  {
   "cell_type": "code",
   "execution_count": null,
   "id": "f7f52471",
   "metadata": {},
   "outputs": [],
   "source": [
    "def splitFile(TRECfile, quantity):\n",
    "    \"\"\"\n",
    "    TREC_Washington_Post_collection.v4.jl has 728626 Lines and has 15GB.\n",
    "    It is to large to read into one Dataframe for the most PCs.\n",
    "    With this function you can split the big TREC-File into as many\n",
    "    small files you want.\n",
    "    \n",
    "    args: \n",
    "    TRECfile = Complete Path + Filename\n",
    "    quantitiy = How many Small files you want to create\n",
    "    \"\"\"\n",
    "    \n",
    "    # Splitting the Filename out of the Path\n",
    "    TRECpath = TRECfile.split('\\\\')\n",
    "    TRECpath = TRECfile[:(len(TRECpath[-1])*-1)-1]\n",
    "    \n",
    "    # Creating a subfolder 'small' for the new Files\n",
    "    TRECpathSmall = os.path.join(TRECpath, 'small')\n",
    "    if not os.path.exists(TRECpathSmall):\n",
    "        os.makedirs(TRECpathSmall)\n",
    "        print(f'{TRECpathSmall} wurde erstellt.')\n",
    "    \n",
    "    # If the folder 'small' is noot already there and has data skip this function\n",
    "    TRECfileSmall = os.listdir(TRECpathSmall)\n",
    "    if not TRECfileSmall:\n",
    "        smallfiles = []\n",
    "        lines_per_file = int(729000/quantity)\n",
    "        \n",
    "        smallfile = None\n",
    "        i = 1\n",
    "        try:\n",
    "            with open(TRECfile) as bigfile:\n",
    "                for lineno, line in enumerate(bigfile):\n",
    "                    if lineno % lines_per_file == 0:\n",
    "                        if smallfile:\n",
    "                            smallfile.close()\n",
    "                        #small_filename = 'TREC_Washington_Post_small_{}.jl'.format(lineno + lines_per_file)\n",
    "                        small_filename = f'TREC_Washington_Post_small_{i}.jl'\n",
    "                        small_filename = os.path.join(TRECpathSmall, small_filename)\n",
    "                        print(f'{small_filename} wird erstellt')\n",
    "                        smallfiles.append(small_filename)\n",
    "                        i+=1\n",
    "                        smallfile = open(small_filename, \"w\")\n",
    "                    smallfile.write(line)\n",
    "                if smallfile:\n",
    "                    smallfile.close()\n",
    "            return smallfiles\n",
    "        except:\n",
    "            print('TREC_Washington_Post_collection.v4.jl nicht gefunden')\n",
    "    else:\n",
    "        # If the folder 'small' is already there and has data create a list of the data\n",
    "        TRECfileSmall = os.listdir(TRECpathSmall)\n",
    "        smallfiles = []\n",
    "        for smallfile in TRECfileSmall:\n",
    "            smallfile = os.path.join(TRECpathSmall, smallfile)\n",
    "            smallfiles.append(smallfile)\n",
    "        return smallfiles\n",
    "\n",
    "    \n",
    "# PATH TO YOUR TREC_Washington_Post_collection JSON\n",
    "myTRECfile = 'C:\\\\Users\\\\Felix\\\\github\\\\privat\\\\dis25_abgabe\\\\data\\\\wpdata\\\\data\\\\TREC_Washington_Post_collection.v4.jl'\n",
    "WpDataSmall = splitFile(myTRECfile, 30)\n",
    "\n",
    "WpDataSmall"
   ]
  },
  {
   "cell_type": "code",
   "execution_count": null,
   "id": "098eb3bb",
   "metadata": {},
   "outputs": [],
   "source": [
    "def SmallFilesToPickle(listOfSmallFiles):\n",
    "    fileending = listOfSmallFiles[0]\n",
    "    fileending = pathlib.Path(fileending).suffix\n",
    "    fileending = fileending[1:]\n",
    "    if fileending == 'jl':\n",
    "        listOfSmallFilesPickle = []\n",
    "        for filename in listOfSmallFiles:\n",
    "            df = pd.read_json(filename, lines=True)\n",
    "\n",
    "            # Drop empty rows\n",
    "            df.dropna(inplace = True)\n",
    "\n",
    "            # delete duplicated and unnecessary columns\n",
    "            if 'contents' in df.columns:\n",
    "                df = df.drop(columns='contents')\n",
    "            #if 'article_url' in df.columns:\n",
    "            #    df = df.drop(columns='article_url')\n",
    "            if 'type' in df.columns:\n",
    "                df = df.drop(columns='type')\n",
    "            if 'source' in df.columns:\n",
    "                df = df.drop(columns='source')\n",
    "\n",
    "            filenamemeameOld = filename\n",
    "            fileNameNew = filename[:-3]+'.pickle'\n",
    "            os.remove(filenamemeameOld)\n",
    "            df.to_pickle(fileNameNew)\n",
    "            listOfSmallFilesPickle.append(fileNameNew)\n",
    "            del df\n",
    "        return listOfSmallFilesPickle\n",
    "    elif fileending == 'pickle':\n",
    "        return listOfSmallFiles\n",
    "    else:\n",
    "        return None\n",
    "\n",
    "WpDataSmall = SmallFilesToPickle(WpDataSmall)\n",
    "\n",
    "WpDataSmall"
   ]
  },
  {
   "cell_type": "code",
   "execution_count": null,
   "id": "530774ba",
   "metadata": {},
   "outputs": [],
   "source": [
    "# ----------------- LÖSCHEN WENN ANDERE FILES GENUTZT WERDEN SOLLEN  -----------\n",
    "\n",
    "hundredthousandWPpath = 'C:\\\\Users\\\\Felix\\\\github\\\\privat\\\\dis25_abgabe\\\\data\\\\wpdata\\\\data\\\\hundredthousand_wp.pickle'\n",
    "\n",
    "del WpDataSmall[:]\n",
    "WpDataSmall.append(hundredthousandWPpath)\n",
    "WpDataSmall\n",
    "\n",
    "# -------------------------------------------------------------------------------"
   ]
  },
  {
   "cell_type": "code",
   "execution_count": null,
   "id": "a08cc81c",
   "metadata": {},
   "outputs": [],
   "source": [
    "def createDfFromSmallFiles(listOfSmallFiles):\n",
    "    fileending = listOfSmallFiles[0]\n",
    "    fileending = pathlib.Path(fileending).suffix\n",
    "    fileending = fileending[1:]\n",
    "    if fileending == 'pickle':\n",
    "        list_of_dataframes = []\n",
    "        for filename in listOfSmallFiles:\n",
    "            to_merge_df = pd.read_pickle(filename)\n",
    "            list_of_dataframes.append(to_merge_df)\n",
    "\n",
    "        # write all small dataframes in one big dataframe\n",
    "        df = pd.concat(list_of_dataframes)        \n",
    "\n",
    "        # delete the small dataframes for more memory\n",
    "        del to_merge_df\n",
    "        del list_of_dataframes\n",
    "\n",
    "        return df\n",
    "\n",
    "df = createDfFromSmallFiles(WpDataSmall)\n",
    "\n",
    "# Randomize the rows and reset a new id\n",
    "#df = df.sample(frac=1).reset_index(drop=True)\n",
    "\n",
    "# !!! DATENSATZ VERKLEINERT\n",
    "df = df[:300]"
   ]
  },
  {
   "cell_type": "markdown",
   "id": "be352a3a",
   "metadata": {},
   "source": [
    "---\n",
    "# | Pre Processing"
   ]
  },
  {
   "cell_type": "code",
   "execution_count": null,
   "id": "e998afa1",
   "metadata": {},
   "outputs": [],
   "source": [
    "df = pd.read_csv('hundertausend_csv.csv', nrows=100)"
   ]
  },
  {
   "cell_type": "code",
   "execution_count": null,
   "id": "ec51c347",
   "metadata": {},
   "outputs": [],
   "source": [
    "df"
   ]
  },
  {
   "cell_type": "code",
   "execution_count": null,
   "id": "76215233",
   "metadata": {},
   "outputs": [],
   "source": [
    "def dateconvert(x):\n",
    "    try:\n",
    "        import datetime  \n",
    "        ts = datetime.datetime.fromtimestamp(x.published_date/1000)\n",
    "        # year-month-day with hours-minutes-seconds\n",
    "        #date = ts.strftime('%Y-%m-%d %H:%M:%S')\n",
    "        # year-month-day without time\n",
    "        date = ts.strftime('%Y-%m-%d')\n",
    "        return date\n",
    "    except:\n",
    "        return x.published_date\n",
    "\n",
    "# converts the epochs datetime to a normale datestring\n",
    "df['published_date'] = df.parallel_apply(dateconvert, axis=1)"
   ]
  },
  {
   "cell_type": "code",
   "execution_count": null,
   "id": "215430a6",
   "metadata": {},
   "outputs": [],
   "source": [
    "def createText(x):\n",
    "    try:\n",
    "        import pandas as pd\n",
    "        dfcontent = pd.json_normalize(x.content, max_level=1)\n",
    "        dfcontent = dfcontent[dfcontent.subtype == 'paragraph']\n",
    "        #dfcontent = dfcontent[dfcontent.mime == 'text/html']\n",
    "        contentText = ''\n",
    "        \n",
    "        for index, row in dfcontent.iterrows():\n",
    "            contentText += row[\"content\"]\n",
    "            contentText += ' '\n",
    "            \n",
    "            import re\n",
    "            contentText = contentText.encode('utf-8').decode('ascii','ignore')\n",
    "            contentText = re.sub('<[^<]+?>', '', contentText)\n",
    "            contentText = contentText.replace(u'\\xa0', u' ')\n",
    "            contentText = contentText.replace(f'\\\\n', ' ')\n",
    "            contentText = contentText.replace(f'\\n', f' ')\n",
    "            contentText = contentText.replace('  ',' ')\n",
    "            \n",
    "        return contentText\n",
    "    except:\n",
    "        return None\n",
    "\n",
    "# creates text from the content column by filtering html and json\n",
    "df['text'] = df.parallel_apply(createText, axis=1)\n",
    "\n",
    "# if content json is converted in text delete the column\n",
    "# !!! df = df.drop(columns='content')"
   ]
  },
  {
   "cell_type": "markdown",
   "id": "d9b2cd73",
   "metadata": {},
   "source": [
    "---\n",
    "# | Cleaning"
   ]
  },
  {
   "cell_type": "code",
   "execution_count": null,
   "id": "50626ed4",
   "metadata": {},
   "outputs": [],
   "source": [
    "df.head(5)"
   ]
  },
  {
   "cell_type": "code",
   "execution_count": null,
   "id": "a46dbac2",
   "metadata": {},
   "outputs": [],
   "source": [
    "df['title'] = df['title'].replace('', None)\n",
    "df['title'] = df['title'].replace(' ', None)\n",
    "df['title'] = df['title'].replace('None', None)\n",
    "df['title'] = df['title'].replace(np.nan, None)\n",
    "df['title'] = df.title.replace(r'^\\s*$', None, regex=True)\n",
    "\n",
    "df.dropna(subset=[\"title\"], inplace=True)\n",
    "\n",
    "def combineText(x):\n",
    "    try:\n",
    "        mergedText = f'{x.title} {x.text}'\n",
    "        return mergedText\n",
    "    except:\n",
    "        return None\n",
    "\n",
    "# write Title and Text in merged_total_text\n",
    "df['merged_total_text'] = df.parallel_apply(combineText, axis=1)"
   ]
  },
  {
   "cell_type": "markdown",
   "id": "1bc06cac",
   "metadata": {},
   "source": [
    "# | Named Entity Recognition w/ spaCy"
   ]
  },
  {
   "cell_type": "code",
   "execution_count": null,
   "id": "65543aae",
   "metadata": {},
   "outputs": [],
   "source": [
    "def createEntitys(x):\n",
    "    import spacy\n",
    "    import en_core_web_trf\n",
    "\n",
    "    # TRF Orininal / Md schneller\n",
    "    nlp = spacy.load(\"en_core_web_md\")\n",
    "    # JULIA nlp = spacy.load(\"en_core_web_trf\")\n",
    "    \n",
    "    totalText = x['merged_total_text']\n",
    "    try:\n",
    "        entitys = {}\n",
    "        for word in nlp(totalText).ents:\n",
    "            entitys[str(word)] = word.label_\n",
    "        return entitys\n",
    "    except:\n",
    "        return None\n",
    "\n",
    "df['entitys'] = df.parallel_apply(createEntitys, axis=1)"
   ]
  },
  {
   "cell_type": "code",
   "execution_count": null,
   "id": "18ff632d",
   "metadata": {},
   "outputs": [],
   "source": [
    "#!pip install gender_guesser  \n",
    "df['author'] = df['author'].replace('', None)\n",
    "df['author'] = df['author'].replace(' ', None)\n",
    "df['author'] = df['author'].replace('None', None)\n",
    "df['author'] = df['author'].replace(np.nan, None)\n",
    "# df['author'] = df.author.replace(r'^\\s*$', None, regex=True)\n",
    "\n",
    "def authorGender(x):\n",
    "    try:\n",
    "        import gender_guesser.detector as gender\n",
    "        gd = gender.Detector()\n",
    "        author = x.author\n",
    "        author = author.split(' ')[0]\n",
    "        gender = gd.get_gender(author)\n",
    "        return gender\n",
    "    except:\n",
    "        return None\n",
    "\n",
    "df['author_gender'] = df.parallel_apply(authorGender, axis=1)"
   ]
  },
  {
   "cell_type": "code",
   "execution_count": null,
   "id": "ee0c7ebd",
   "metadata": {},
   "outputs": [],
   "source": [
    "def findCategory(x):\n",
    "    try:\n",
    "        articleUrl = x.article_url\n",
    "\n",
    "        if articleUrl[:5] == 'https':\n",
    "            category = articleUrl.split('/')[3]\n",
    "        elif articleUrl[:1] == '/':\n",
    "            category = articleUrl.split('/')[1]\n",
    "        else:\n",
    "            category = 'other'\n",
    "        return category\n",
    "    except:\n",
    "        return None\n",
    "\n",
    "# find category from article_url\n",
    "df['category'] = df.parallel_apply(findCategory, axis=1)"
   ]
  },
  {
   "cell_type": "code",
   "execution_count": null,
   "id": "d6f30420",
   "metadata": {},
   "outputs": [],
   "source": [
    "def communion_context(x):\n",
    "    try:\n",
    "        file = 'a_communion.txt'\n",
    "        with open(file, \"r\") as tf:\n",
    "            lines = tf.read().split('\\n')\n",
    "        print(lines)\n",
    "        import re\n",
    "        counter = 0\n",
    "        for line in lines:\n",
    "            count = sum(1 for _ in re.finditer(r'\\b%s\\b' % re.escape(line), x.title))\n",
    "            counter += count\n",
    "        return counter\n",
    "    except:\n",
    "        return None\n",
    "\n",
    "df['communion_context'] = df.parallel_apply(communion_context, axis=1)"
   ]
  },
  {
   "cell_type": "code",
   "execution_count": null,
   "id": "a00d966f",
   "metadata": {},
   "outputs": [],
   "source": [
    "def agency_context(x):\n",
    "    try:\n",
    "        file = 'a_agency.txt'\n",
    "        with open(file, \"r\") as tf:\n",
    "            lines = tf.read().split('\\n')\n",
    "        print(lines)\n",
    "        import re\n",
    "        counter = 0\n",
    "        for line in lines:\n",
    "            count = sum(1 for _ in re.finditer(r'\\b%s\\b' % re.escape(line), x.title))\n",
    "            counter += count\n",
    "        return counter\n",
    "    except:\n",
    "        return None\n",
    "\n",
    "df['agency_context'] = df.parallel_apply(agency_context, axis=1)"
   ]
  },
  {
   "cell_type": "code",
   "execution_count": null,
   "id": "35e2e56e",
   "metadata": {},
   "outputs": [],
   "source": [
    "def getTitleLenght(x):\n",
    "    try:\n",
    "        return len(x.title)\n",
    "    except:\n",
    "        return None\n",
    "\n",
    "# write length of title\n",
    "df['len_title'] = df.parallel_apply(getTitleLenght, axis=1)"
   ]
  },
  {
   "cell_type": "code",
   "execution_count": null,
   "id": "2161778b",
   "metadata": {},
   "outputs": [],
   "source": [
    "def getTitleWordLenght(x):\n",
    "    try:\n",
    "        title = x.title\n",
    "        import spacy\n",
    "        nlp = spacy.load('en_core_web_sm')\n",
    "        title = nlp(title)\n",
    "        tokenizerLength = len(title)\n",
    "        return tokenizerLength\n",
    "    except:\n",
    "        return None\n",
    "\n",
    "# write number of title words\n",
    "df['word_title'] = df.parallel_apply(getTitleWordLenght, axis=1)"
   ]
  },
  {
   "cell_type": "code",
   "execution_count": null,
   "id": "00fa04d2",
   "metadata": {},
   "outputs": [],
   "source": [
    "def TitleVaderScore(x):\n",
    "    try:\n",
    "        from vaderSentiment.vaderSentiment import SentimentIntensityAnalyzer\n",
    "        analyzer = SentimentIntensityAnalyzer()\n",
    "        title = x.title\n",
    "        vader_score = analyzer.polarity_scores(title)['compound']\n",
    "        if vader_score >= 0.05 : \n",
    "            return(\"Positive\") \n",
    "        elif vader_score <= - 0.05 : \n",
    "            return(\"Negative\")  \n",
    "        else : \n",
    "            return(\"Neutral\")\n",
    "    except:\n",
    "        return None\n",
    "\n",
    "# find category from article_url\n",
    "df['compund'] = df.parallel_apply(TitleVaderScore, axis=1)"
   ]
  },
  {
   "cell_type": "code",
   "execution_count": null,
   "id": "3fed1f4f",
   "metadata": {},
   "outputs": [],
   "source": [
    "# Speichern des aktuellen Stands\n",
    "\n",
    "aktuellPickle = 'C:\\\\Users\\\\Felix\\\\github\\\\privat\\\\dis25_abgabe\\\\data\\\\wpdata\\\\data\\\\aktuell.pickle'\n",
    "if os.path.exists(aktuellPickle):\n",
    "    os.remove(aktuellPickle)\n",
    "df.to_pickle(aktuellPickle)"
   ]
  },
  {
   "cell_type": "code",
   "execution_count": null,
   "id": "df83d166",
   "metadata": {},
   "outputs": [],
   "source": [
    "df"
   ]
  },
  {
   "cell_type": "code",
   "execution_count": null,
   "id": "a1794993",
   "metadata": {},
   "outputs": [],
   "source": []
  },
  {
   "cell_type": "markdown",
   "id": "78b2f102",
   "metadata": {},
   "source": [
    "# | Named Entity Recognition w/ spaCy NEU"
   ]
  },
  {
   "cell_type": "code",
   "execution_count": 5,
   "id": "03a09b45",
   "metadata": {},
   "outputs": [],
   "source": [
    "# Laden des aktuellen Stands\n",
    "aktuellPickle = 'C:\\\\Users\\\\alexander.courtpozan\\\\Documents\\\\ACO_TH\\\\washington_post_bias\\\\aktuell.pickle'\n",
    "df_ner_full = pd.read_pickle(aktuellPickle)"
   ]
  },
  {
   "cell_type": "code",
   "execution_count": 7,
   "id": "98d4ec71",
   "metadata": {},
   "outputs": [
    {
     "name": "stderr",
     "output_type": "stream",
     "text": [
      "100%|████████████████████████████████████████████████████████████████████████████████| 300/300 [01:04<00:00,  4.68it/s]\n"
     ]
    }
   ],
   "source": [
    "# write entity in parsed_text \n",
    "parsed_text = []\n",
    "for text, id in tqdm.tqdm(zip(df_ner_full['merged_total_text'], df_ner_full['id']), total=len(df_ner_full)):\n",
    "    parsed_text.extend([[id, str(entity), entity.label_] for entity in nlp(text).ents])"
   ]
  },
  {
   "cell_type": "code",
   "execution_count": 8,
   "id": "de139667",
   "metadata": {},
   "outputs": [],
   "source": [
    "# create dfs from entities\n",
    "df_ner = pd.DataFrame(parsed_text, columns=['id', 'merged_total_text', 'entity_type'])\n",
    "df_ner.rename(columns={'merged_total_text': 'entity_per'}, inplace=True)"
   ]
  },
  {
   "cell_type": "code",
   "execution_count": 9,
   "id": "d1de4b46",
   "metadata": {},
   "outputs": [],
   "source": [
    "# merge back to initial df\n",
    "df_ner_full = (pd.merge(df_ner_full, df_ner, on='id')) "
   ]
  },
  {
   "cell_type": "code",
   "execution_count": 10,
   "id": "993928ea",
   "metadata": {},
   "outputs": [],
   "source": [
    "df_ner_full = (df_ner_full.loc[df_ner_full['entity_type'].isin(['PERSON'])])"
   ]
  },
  {
   "cell_type": "code",
   "execution_count": 11,
   "id": "f2dd76b1",
   "metadata": {},
   "outputs": [],
   "source": [
    "# Replace artist names (Sting, Bono, Cher etc.) with name according to wikipedia\n",
    "# TO do: write into dict?\n",
    "artists = {\n",
    "            'JFK': 'John Fitzgerald Kennedy',\n",
    "            'FDR': 'Franklin Delano Roosevelt',\n",
    "            'Sting': 'Gordon Matthew Sumner',\n",
    "            'Bono': 'Paul David Hewson',\n",
    "            'Cher': 'Cherilyn Sarkisian',\n",
    "            'Madonna': 'Madonna Louise Ciccone',\n",
    "            'Adele': 'Adele Laurie Adkins',\n",
    "            'Eminem': 'Marshall Bruce Mathers',\n",
    "            'Beyonce': 'Beyoncé Knowles-Carter',\n",
    "            'Blaine Friedlander': 'Blaine P. Friedlander Jr.'\n",
    "        }\n",
    "df_ner_full['entity_per'] = df_ner_full['entity_per'].replace(artists)"
   ]
  },
  {
   "cell_type": "code",
   "execution_count": 12,
   "id": "7900c22e",
   "metadata": {},
   "outputs": [
    {
     "data": {
      "text/html": [
       "<div>\n",
       "<style scoped>\n",
       "    .dataframe tbody tr th:only-of-type {\n",
       "        vertical-align: middle;\n",
       "    }\n",
       "\n",
       "    .dataframe tbody tr th {\n",
       "        vertical-align: top;\n",
       "    }\n",
       "\n",
       "    .dataframe thead th {\n",
       "        text-align: right;\n",
       "    }\n",
       "</style>\n",
       "<table border=\"1\" class=\"dataframe\">\n",
       "  <thead>\n",
       "    <tr style=\"text-align: right;\">\n",
       "      <th></th>\n",
       "      <th>id</th>\n",
       "      <th>article_url</th>\n",
       "      <th>title</th>\n",
       "      <th>author</th>\n",
       "      <th>published_date</th>\n",
       "      <th>type</th>\n",
       "      <th>source</th>\n",
       "      <th>content</th>\n",
       "      <th>publish_date</th>\n",
       "      <th>orig-id</th>\n",
       "      <th>...</th>\n",
       "      <th>entitys</th>\n",
       "      <th>author_gender</th>\n",
       "      <th>category</th>\n",
       "      <th>communion_context</th>\n",
       "      <th>agency_context</th>\n",
       "      <th>len_title</th>\n",
       "      <th>word_title</th>\n",
       "      <th>compund</th>\n",
       "      <th>entity_per</th>\n",
       "      <th>entity_type</th>\n",
       "    </tr>\n",
       "  </thead>\n",
       "  <tbody>\n",
       "    <tr>\n",
       "      <th>1</th>\n",
       "      <td>ABM35HDPIII6RP4GUI2RWXWOTE</td>\n",
       "      <td>/opinions/the-hollow-compassion-of-trump-wary-...</td>\n",
       "      <td>Trump’s America goes full Charles Dickens</td>\n",
       "      <td>Dana Milbank</td>\n",
       "      <td>NaN</td>\n",
       "      <td>NaN</td>\n",
       "      <td>NaN</td>\n",
       "      <td>[{'content': 'Opinions', 'mime': 'text/plain',...</td>\n",
       "      <td>NaN</td>\n",
       "      <td>NaN</td>\n",
       "      <td>...</td>\n",
       "      <td>{'Trump’s America': 'ORG', 'Charles Dickens Do...</td>\n",
       "      <td>female</td>\n",
       "      <td>opinions</td>\n",
       "      <td>0</td>\n",
       "      <td>0</td>\n",
       "      <td>41</td>\n",
       "      <td>7</td>\n",
       "      <td>Neutral</td>\n",
       "      <td>Charles Dickens Donald Trumps America</td>\n",
       "      <td>PERSON</td>\n",
       "    </tr>\n",
       "    <tr>\n",
       "      <th>22</th>\n",
       "      <td>ABM35HDPIII6RP4GUI2RWXWOTE</td>\n",
       "      <td>/opinions/the-hollow-compassion-of-trump-wary-...</td>\n",
       "      <td>Trump’s America goes full Charles Dickens</td>\n",
       "      <td>Dana Milbank</td>\n",
       "      <td>NaN</td>\n",
       "      <td>NaN</td>\n",
       "      <td>NaN</td>\n",
       "      <td>[{'content': 'Opinions', 'mime': 'text/plain',...</td>\n",
       "      <td>NaN</td>\n",
       "      <td>NaN</td>\n",
       "      <td>...</td>\n",
       "      <td>{'Trump’s America': 'ORG', 'Charles Dickens Do...</td>\n",
       "      <td>female</td>\n",
       "      <td>opinions</td>\n",
       "      <td>0</td>\n",
       "      <td>0</td>\n",
       "      <td>41</td>\n",
       "      <td>7</td>\n",
       "      <td>Neutral</td>\n",
       "      <td>Greg Walden</td>\n",
       "      <td>PERSON</td>\n",
       "    </tr>\n",
       "  </tbody>\n",
       "</table>\n",
       "<p>2 rows × 22 columns</p>\n",
       "</div>"
      ],
      "text/plain": [
       "                            id  \\\n",
       "1   ABM35HDPIII6RP4GUI2RWXWOTE   \n",
       "22  ABM35HDPIII6RP4GUI2RWXWOTE   \n",
       "\n",
       "                                          article_url  \\\n",
       "1   /opinions/the-hollow-compassion-of-trump-wary-...   \n",
       "22  /opinions/the-hollow-compassion-of-trump-wary-...   \n",
       "\n",
       "                                        title        author published_date  \\\n",
       "1   Trump’s America goes full Charles Dickens  Dana Milbank            NaN   \n",
       "22  Trump’s America goes full Charles Dickens  Dana Milbank            NaN   \n",
       "\n",
       "   type source                                            content  \\\n",
       "1   NaN    NaN  [{'content': 'Opinions', 'mime': 'text/plain',...   \n",
       "22  NaN    NaN  [{'content': 'Opinions', 'mime': 'text/plain',...   \n",
       "\n",
       "    publish_date orig-id  ...  \\\n",
       "1            NaN     NaN  ...   \n",
       "22           NaN     NaN  ...   \n",
       "\n",
       "                                              entitys author_gender  category  \\\n",
       "1   {'Trump’s America': 'ORG', 'Charles Dickens Do...        female  opinions   \n",
       "22  {'Trump’s America': 'ORG', 'Charles Dickens Do...        female  opinions   \n",
       "\n",
       "   communion_context agency_context  len_title  word_title  compund  \\\n",
       "1                  0              0         41           7  Neutral   \n",
       "22                 0              0         41           7  Neutral   \n",
       "\n",
       "                               entity_per entity_type  \n",
       "1   Charles Dickens Donald Trumps America      PERSON  \n",
       "22                            Greg Walden      PERSON  \n",
       "\n",
       "[2 rows x 22 columns]"
      ]
     },
     "execution_count": 12,
     "metadata": {},
     "output_type": "execute_result"
    }
   ],
   "source": [
    "df_ner_full.head(2)"
   ]
  },
  {
   "cell_type": "code",
   "execution_count": 13,
   "id": "1517ff95",
   "metadata": {},
   "outputs": [],
   "source": [
    "def split_name(df, var):\n",
    "    sub_df = df[var].str.split('\\\\s+', expand=True)\n",
    "    result = []\n",
    "\n",
    "    for _, row in sub_df.iterrows():\n",
    "        info = {'first_name': '', 'middle_name': '', 'last_name': ''}\n",
    "        n = row.count()\n",
    "\n",
    "        if n == 0:\n",
    "            pass\n",
    "        elif n == 1:\n",
    "            info['first_name'] = row.iloc[0]\n",
    "        elif n == 2:\n",
    "            info['first_name'], info['last_name'] = row.iloc[:2]\n",
    "        else:\n",
    "            info['first_name'] = row.iloc[0]\n",
    "            info['last_name'] = row.iloc[-1]\n",
    "            info['middle_name'] = ' '.join([(string or '') for string in row.iloc[1:-1]])\n",
    "        result.append(info)\n",
    "    return pd.DataFrame(result, index=df.index)\n",
    "\n",
    "df_names = split_name(df_ner_full, 'entity_per')\n",
    "df_ner_full = df_ner_full.join(df_names)"
   ]
  },
  {
   "cell_type": "code",
   "execution_count": 14,
   "id": "7d3a5ede",
   "metadata": {},
   "outputs": [],
   "source": [
    "#!pip install gender_guesser    \n",
    "import gender_guesser.detector as gender\n",
    "gd = gender.Detector()\n",
    "df_ner_full['gender_guesser'] = df_ner_full['first_name'].apply(str.capitalize).map(lambda x: gd.get_gender(x))"
   ]
  },
  {
   "cell_type": "code",
   "execution_count": 15,
   "id": "5e70c536",
   "metadata": {},
   "outputs": [],
   "source": [
    "#df.drop(['agency_context', 'len_title', 'word_title', 'compund', 'content', 'communion_context', 'category' , 'entitys'], axis=1, inplace=True)#"
   ]
  },
  {
   "cell_type": "code",
   "execution_count": 16,
   "id": "043fb9a9",
   "metadata": {},
   "outputs": [
    {
     "data": {
      "text/plain": [
       "male             1942\n",
       "unknown          1554\n",
       "female            630\n",
       "mostly_male       129\n",
       "mostly_female     107\n",
       "andy               40\n",
       "Name: gender_guesser, dtype: int64"
      ]
     },
     "execution_count": 16,
     "metadata": {},
     "output_type": "execute_result"
    }
   ],
   "source": [
    "df_ner_full.gender_guesser.value_counts()"
   ]
  },
  {
   "cell_type": "code",
   "execution_count": 17,
   "id": "d28c6752",
   "metadata": {},
   "outputs": [
    {
     "data": {
      "text/html": [
       "<div>\n",
       "<style scoped>\n",
       "    .dataframe tbody tr th:only-of-type {\n",
       "        vertical-align: middle;\n",
       "    }\n",
       "\n",
       "    .dataframe tbody tr th {\n",
       "        vertical-align: top;\n",
       "    }\n",
       "\n",
       "    .dataframe thead th {\n",
       "        text-align: right;\n",
       "    }\n",
       "</style>\n",
       "<table border=\"1\" class=\"dataframe\">\n",
       "  <thead>\n",
       "    <tr style=\"text-align: right;\">\n",
       "      <th></th>\n",
       "      <th>id</th>\n",
       "      <th>article_url</th>\n",
       "      <th>title</th>\n",
       "      <th>author</th>\n",
       "      <th>published_date</th>\n",
       "      <th>type</th>\n",
       "      <th>source</th>\n",
       "      <th>content</th>\n",
       "      <th>publish_date</th>\n",
       "      <th>orig-id</th>\n",
       "      <th>...</th>\n",
       "      <th>agency_context</th>\n",
       "      <th>len_title</th>\n",
       "      <th>word_title</th>\n",
       "      <th>compund</th>\n",
       "      <th>entity_per</th>\n",
       "      <th>entity_type</th>\n",
       "      <th>first_name</th>\n",
       "      <th>middle_name</th>\n",
       "      <th>last_name</th>\n",
       "      <th>gender_guesser</th>\n",
       "    </tr>\n",
       "  </thead>\n",
       "  <tbody>\n",
       "    <tr>\n",
       "      <th>1</th>\n",
       "      <td>ABM35HDPIII6RP4GUI2RWXWOTE</td>\n",
       "      <td>/opinions/the-hollow-compassion-of-trump-wary-...</td>\n",
       "      <td>Trump’s America goes full Charles Dickens</td>\n",
       "      <td>Dana Milbank</td>\n",
       "      <td>NaN</td>\n",
       "      <td>NaN</td>\n",
       "      <td>NaN</td>\n",
       "      <td>[{'content': 'Opinions', 'mime': 'text/plain',...</td>\n",
       "      <td>NaN</td>\n",
       "      <td>NaN</td>\n",
       "      <td>...</td>\n",
       "      <td>0</td>\n",
       "      <td>41</td>\n",
       "      <td>7</td>\n",
       "      <td>Neutral</td>\n",
       "      <td>Charles Dickens Donald Trumps America</td>\n",
       "      <td>PERSON</td>\n",
       "      <td>Charles</td>\n",
       "      <td>Dickens Donald Trumps America</td>\n",
       "      <td>None</td>\n",
       "      <td>male</td>\n",
       "    </tr>\n",
       "    <tr>\n",
       "      <th>22</th>\n",
       "      <td>ABM35HDPIII6RP4GUI2RWXWOTE</td>\n",
       "      <td>/opinions/the-hollow-compassion-of-trump-wary-...</td>\n",
       "      <td>Trump’s America goes full Charles Dickens</td>\n",
       "      <td>Dana Milbank</td>\n",
       "      <td>NaN</td>\n",
       "      <td>NaN</td>\n",
       "      <td>NaN</td>\n",
       "      <td>[{'content': 'Opinions', 'mime': 'text/plain',...</td>\n",
       "      <td>NaN</td>\n",
       "      <td>NaN</td>\n",
       "      <td>...</td>\n",
       "      <td>0</td>\n",
       "      <td>41</td>\n",
       "      <td>7</td>\n",
       "      <td>Neutral</td>\n",
       "      <td>Greg Walden</td>\n",
       "      <td>PERSON</td>\n",
       "      <td>Greg</td>\n",
       "      <td></td>\n",
       "      <td>Walden</td>\n",
       "      <td>male</td>\n",
       "    </tr>\n",
       "    <tr>\n",
       "      <th>24</th>\n",
       "      <td>ABM35HDPIII6RP4GUI2RWXWOTE</td>\n",
       "      <td>/opinions/the-hollow-compassion-of-trump-wary-...</td>\n",
       "      <td>Trump’s America goes full Charles Dickens</td>\n",
       "      <td>Dana Milbank</td>\n",
       "      <td>NaN</td>\n",
       "      <td>NaN</td>\n",
       "      <td>NaN</td>\n",
       "      <td>[{'content': 'Opinions', 'mime': 'text/plain',...</td>\n",
       "      <td>NaN</td>\n",
       "      <td>NaN</td>\n",
       "      <td>...</td>\n",
       "      <td>0</td>\n",
       "      <td>41</td>\n",
       "      <td>7</td>\n",
       "      <td>Neutral</td>\n",
       "      <td>Cathy McMorris</td>\n",
       "      <td>PERSON</td>\n",
       "      <td>Cathy</td>\n",
       "      <td></td>\n",
       "      <td>McMorris</td>\n",
       "      <td>female</td>\n",
       "    </tr>\n",
       "    <tr>\n",
       "      <th>25</th>\n",
       "      <td>ABM35HDPIII6RP4GUI2RWXWOTE</td>\n",
       "      <td>/opinions/the-hollow-compassion-of-trump-wary-...</td>\n",
       "      <td>Trump’s America goes full Charles Dickens</td>\n",
       "      <td>Dana Milbank</td>\n",
       "      <td>NaN</td>\n",
       "      <td>NaN</td>\n",
       "      <td>NaN</td>\n",
       "      <td>[{'content': 'Opinions', 'mime': 'text/plain',...</td>\n",
       "      <td>NaN</td>\n",
       "      <td>NaN</td>\n",
       "      <td>...</td>\n",
       "      <td>0</td>\n",
       "      <td>41</td>\n",
       "      <td>7</td>\n",
       "      <td>Neutral</td>\n",
       "      <td>Kristin</td>\n",
       "      <td>PERSON</td>\n",
       "      <td>Kristin</td>\n",
       "      <td></td>\n",
       "      <td></td>\n",
       "      <td>female</td>\n",
       "    </tr>\n",
       "    <tr>\n",
       "      <th>26</th>\n",
       "      <td>ABM35HDPIII6RP4GUI2RWXWOTE</td>\n",
       "      <td>/opinions/the-hollow-compassion-of-trump-wary-...</td>\n",
       "      <td>Trump’s America goes full Charles Dickens</td>\n",
       "      <td>Dana Milbank</td>\n",
       "      <td>NaN</td>\n",
       "      <td>NaN</td>\n",
       "      <td>NaN</td>\n",
       "      <td>[{'content': 'Opinions', 'mime': 'text/plain',...</td>\n",
       "      <td>NaN</td>\n",
       "      <td>NaN</td>\n",
       "      <td>...</td>\n",
       "      <td>0</td>\n",
       "      <td>41</td>\n",
       "      <td>7</td>\n",
       "      <td>Neutral</td>\n",
       "      <td>Erik Paulsen</td>\n",
       "      <td>PERSON</td>\n",
       "      <td>Erik</td>\n",
       "      <td></td>\n",
       "      <td>Paulsen</td>\n",
       "      <td>male</td>\n",
       "    </tr>\n",
       "    <tr>\n",
       "      <th>...</th>\n",
       "      <td>...</td>\n",
       "      <td>...</td>\n",
       "      <td>...</td>\n",
       "      <td>...</td>\n",
       "      <td>...</td>\n",
       "      <td>...</td>\n",
       "      <td>...</td>\n",
       "      <td>...</td>\n",
       "      <td>...</td>\n",
       "      <td>...</td>\n",
       "      <td>...</td>\n",
       "      <td>...</td>\n",
       "      <td>...</td>\n",
       "      <td>...</td>\n",
       "      <td>...</td>\n",
       "      <td>...</td>\n",
       "      <td>...</td>\n",
       "      <td>...</td>\n",
       "      <td>...</td>\n",
       "      <td>...</td>\n",
       "      <td>...</td>\n",
       "    </tr>\n",
       "    <tr>\n",
       "      <th>18870</th>\n",
       "      <td>71954c18-e1c8-11e3-9743-bb9b59cde7b9</td>\n",
       "      <td>https://www.washingtonpost.com/lifestyle/style...</td>\n",
       "      <td>Alejandro Jodorowsky’s ‘Dance of Reality’ take...</td>\n",
       "      <td>Steve Dollar</td>\n",
       "      <td>2014-05-23</td>\n",
       "      <td>article</td>\n",
       "      <td>The Washington Post</td>\n",
       "      <td>[{'content': 'Style', 'mime': 'text/plain', 't...</td>\n",
       "      <td>NaN</td>\n",
       "      <td>NaN</td>\n",
       "      <td>...</td>\n",
       "      <td>1</td>\n",
       "      <td>88</td>\n",
       "      <td>17</td>\n",
       "      <td>Negative</td>\n",
       "      <td>Jodorowskys Dune</td>\n",
       "      <td>PERSON</td>\n",
       "      <td>Jodorowskys</td>\n",
       "      <td></td>\n",
       "      <td>Dune</td>\n",
       "      <td>unknown</td>\n",
       "    </tr>\n",
       "    <tr>\n",
       "      <th>18871</th>\n",
       "      <td>71954c18-e1c8-11e3-9743-bb9b59cde7b9</td>\n",
       "      <td>https://www.washingtonpost.com/lifestyle/style...</td>\n",
       "      <td>Alejandro Jodorowsky’s ‘Dance of Reality’ take...</td>\n",
       "      <td>Steve Dollar</td>\n",
       "      <td>2014-05-23</td>\n",
       "      <td>article</td>\n",
       "      <td>The Washington Post</td>\n",
       "      <td>[{'content': 'Style', 'mime': 'text/plain', 't...</td>\n",
       "      <td>NaN</td>\n",
       "      <td>NaN</td>\n",
       "      <td>...</td>\n",
       "      <td>1</td>\n",
       "      <td>88</td>\n",
       "      <td>17</td>\n",
       "      <td>Negative</td>\n",
       "      <td>Frank Herberts</td>\n",
       "      <td>PERSON</td>\n",
       "      <td>Frank</td>\n",
       "      <td></td>\n",
       "      <td>Herberts</td>\n",
       "      <td>male</td>\n",
       "    </tr>\n",
       "    <tr>\n",
       "      <th>18872</th>\n",
       "      <td>71954c18-e1c8-11e3-9743-bb9b59cde7b9</td>\n",
       "      <td>https://www.washingtonpost.com/lifestyle/style...</td>\n",
       "      <td>Alejandro Jodorowsky’s ‘Dance of Reality’ take...</td>\n",
       "      <td>Steve Dollar</td>\n",
       "      <td>2014-05-23</td>\n",
       "      <td>article</td>\n",
       "      <td>The Washington Post</td>\n",
       "      <td>[{'content': 'Style', 'mime': 'text/plain', 't...</td>\n",
       "      <td>NaN</td>\n",
       "      <td>NaN</td>\n",
       "      <td>...</td>\n",
       "      <td>1</td>\n",
       "      <td>88</td>\n",
       "      <td>17</td>\n",
       "      <td>Negative</td>\n",
       "      <td>Jodorowsky</td>\n",
       "      <td>PERSON</td>\n",
       "      <td>Jodorowsky</td>\n",
       "      <td></td>\n",
       "      <td></td>\n",
       "      <td>unknown</td>\n",
       "    </tr>\n",
       "    <tr>\n",
       "      <th>18876</th>\n",
       "      <td>71954c18-e1c8-11e3-9743-bb9b59cde7b9</td>\n",
       "      <td>https://www.washingtonpost.com/lifestyle/style...</td>\n",
       "      <td>Alejandro Jodorowsky’s ‘Dance of Reality’ take...</td>\n",
       "      <td>Steve Dollar</td>\n",
       "      <td>2014-05-23</td>\n",
       "      <td>article</td>\n",
       "      <td>The Washington Post</td>\n",
       "      <td>[{'content': 'Style', 'mime': 'text/plain', 't...</td>\n",
       "      <td>NaN</td>\n",
       "      <td>NaN</td>\n",
       "      <td>...</td>\n",
       "      <td>1</td>\n",
       "      <td>88</td>\n",
       "      <td>17</td>\n",
       "      <td>Negative</td>\n",
       "      <td>Sarah</td>\n",
       "      <td>PERSON</td>\n",
       "      <td>Sarah</td>\n",
       "      <td></td>\n",
       "      <td></td>\n",
       "      <td>female</td>\n",
       "    </tr>\n",
       "    <tr>\n",
       "      <th>18877</th>\n",
       "      <td>71954c18-e1c8-11e3-9743-bb9b59cde7b9</td>\n",
       "      <td>https://www.washingtonpost.com/lifestyle/style...</td>\n",
       "      <td>Alejandro Jodorowsky’s ‘Dance of Reality’ take...</td>\n",
       "      <td>Steve Dollar</td>\n",
       "      <td>2014-05-23</td>\n",
       "      <td>article</td>\n",
       "      <td>The Washington Post</td>\n",
       "      <td>[{'content': 'Style', 'mime': 'text/plain', 't...</td>\n",
       "      <td>NaN</td>\n",
       "      <td>NaN</td>\n",
       "      <td>...</td>\n",
       "      <td>1</td>\n",
       "      <td>88</td>\n",
       "      <td>17</td>\n",
       "      <td>Negative</td>\n",
       "      <td>Jodorowsky</td>\n",
       "      <td>PERSON</td>\n",
       "      <td>Jodorowsky</td>\n",
       "      <td></td>\n",
       "      <td></td>\n",
       "      <td>unknown</td>\n",
       "    </tr>\n",
       "  </tbody>\n",
       "</table>\n",
       "<p>4402 rows × 26 columns</p>\n",
       "</div>"
      ],
      "text/plain": [
       "                                         id  \\\n",
       "1                ABM35HDPIII6RP4GUI2RWXWOTE   \n",
       "22               ABM35HDPIII6RP4GUI2RWXWOTE   \n",
       "24               ABM35HDPIII6RP4GUI2RWXWOTE   \n",
       "25               ABM35HDPIII6RP4GUI2RWXWOTE   \n",
       "26               ABM35HDPIII6RP4GUI2RWXWOTE   \n",
       "...                                     ...   \n",
       "18870  71954c18-e1c8-11e3-9743-bb9b59cde7b9   \n",
       "18871  71954c18-e1c8-11e3-9743-bb9b59cde7b9   \n",
       "18872  71954c18-e1c8-11e3-9743-bb9b59cde7b9   \n",
       "18876  71954c18-e1c8-11e3-9743-bb9b59cde7b9   \n",
       "18877  71954c18-e1c8-11e3-9743-bb9b59cde7b9   \n",
       "\n",
       "                                             article_url  \\\n",
       "1      /opinions/the-hollow-compassion-of-trump-wary-...   \n",
       "22     /opinions/the-hollow-compassion-of-trump-wary-...   \n",
       "24     /opinions/the-hollow-compassion-of-trump-wary-...   \n",
       "25     /opinions/the-hollow-compassion-of-trump-wary-...   \n",
       "26     /opinions/the-hollow-compassion-of-trump-wary-...   \n",
       "...                                                  ...   \n",
       "18870  https://www.washingtonpost.com/lifestyle/style...   \n",
       "18871  https://www.washingtonpost.com/lifestyle/style...   \n",
       "18872  https://www.washingtonpost.com/lifestyle/style...   \n",
       "18876  https://www.washingtonpost.com/lifestyle/style...   \n",
       "18877  https://www.washingtonpost.com/lifestyle/style...   \n",
       "\n",
       "                                                   title        author  \\\n",
       "1              Trump’s America goes full Charles Dickens  Dana Milbank   \n",
       "22             Trump’s America goes full Charles Dickens  Dana Milbank   \n",
       "24             Trump’s America goes full Charles Dickens  Dana Milbank   \n",
       "25             Trump’s America goes full Charles Dickens  Dana Milbank   \n",
       "26             Trump’s America goes full Charles Dickens  Dana Milbank   \n",
       "...                                                  ...           ...   \n",
       "18870  Alejandro Jodorowsky’s ‘Dance of Reality’ take...  Steve Dollar   \n",
       "18871  Alejandro Jodorowsky’s ‘Dance of Reality’ take...  Steve Dollar   \n",
       "18872  Alejandro Jodorowsky’s ‘Dance of Reality’ take...  Steve Dollar   \n",
       "18876  Alejandro Jodorowsky’s ‘Dance of Reality’ take...  Steve Dollar   \n",
       "18877  Alejandro Jodorowsky’s ‘Dance of Reality’ take...  Steve Dollar   \n",
       "\n",
       "      published_date     type               source  \\\n",
       "1                NaN      NaN                  NaN   \n",
       "22               NaN      NaN                  NaN   \n",
       "24               NaN      NaN                  NaN   \n",
       "25               NaN      NaN                  NaN   \n",
       "26               NaN      NaN                  NaN   \n",
       "...              ...      ...                  ...   \n",
       "18870     2014-05-23  article  The Washington Post   \n",
       "18871     2014-05-23  article  The Washington Post   \n",
       "18872     2014-05-23  article  The Washington Post   \n",
       "18876     2014-05-23  article  The Washington Post   \n",
       "18877     2014-05-23  article  The Washington Post   \n",
       "\n",
       "                                                 content  publish_date  \\\n",
       "1      [{'content': 'Opinions', 'mime': 'text/plain',...           NaN   \n",
       "22     [{'content': 'Opinions', 'mime': 'text/plain',...           NaN   \n",
       "24     [{'content': 'Opinions', 'mime': 'text/plain',...           NaN   \n",
       "25     [{'content': 'Opinions', 'mime': 'text/plain',...           NaN   \n",
       "26     [{'content': 'Opinions', 'mime': 'text/plain',...           NaN   \n",
       "...                                                  ...           ...   \n",
       "18870  [{'content': 'Style', 'mime': 'text/plain', 't...           NaN   \n",
       "18871  [{'content': 'Style', 'mime': 'text/plain', 't...           NaN   \n",
       "18872  [{'content': 'Style', 'mime': 'text/plain', 't...           NaN   \n",
       "18876  [{'content': 'Style', 'mime': 'text/plain', 't...           NaN   \n",
       "18877  [{'content': 'Style', 'mime': 'text/plain', 't...           NaN   \n",
       "\n",
       "      orig-id  ... agency_context len_title word_title   compund  \\\n",
       "1         NaN  ...              0        41          7   Neutral   \n",
       "22        NaN  ...              0        41          7   Neutral   \n",
       "24        NaN  ...              0        41          7   Neutral   \n",
       "25        NaN  ...              0        41          7   Neutral   \n",
       "26        NaN  ...              0        41          7   Neutral   \n",
       "...       ...  ...            ...       ...        ...       ...   \n",
       "18870     NaN  ...              1        88         17  Negative   \n",
       "18871     NaN  ...              1        88         17  Negative   \n",
       "18872     NaN  ...              1        88         17  Negative   \n",
       "18876     NaN  ...              1        88         17  Negative   \n",
       "18877     NaN  ...              1        88         17  Negative   \n",
       "\n",
       "                                  entity_per  entity_type   first_name  \\\n",
       "1      Charles Dickens Donald Trumps America       PERSON      Charles   \n",
       "22                               Greg Walden       PERSON         Greg   \n",
       "24                            Cathy McMorris       PERSON        Cathy   \n",
       "25                                   Kristin       PERSON      Kristin   \n",
       "26                              Erik Paulsen       PERSON         Erik   \n",
       "...                                      ...          ...          ...   \n",
       "18870                       Jodorowskys Dune       PERSON  Jodorowskys   \n",
       "18871                         Frank Herberts       PERSON        Frank   \n",
       "18872                             Jodorowsky       PERSON   Jodorowsky   \n",
       "18876                                  Sarah       PERSON        Sarah   \n",
       "18877                             Jodorowsky       PERSON   Jodorowsky   \n",
       "\n",
       "                           middle_name  last_name gender_guesser  \n",
       "1      Dickens Donald Trumps America         None           male  \n",
       "22                                         Walden           male  \n",
       "24                                       McMorris         female  \n",
       "25                                                        female  \n",
       "26                                        Paulsen           male  \n",
       "...                                ...        ...            ...  \n",
       "18870                                        Dune        unknown  \n",
       "18871                                    Herberts           male  \n",
       "18872                                                    unknown  \n",
       "18876                                                     female  \n",
       "18877                                                    unknown  \n",
       "\n",
       "[4402 rows x 26 columns]"
      ]
     },
     "execution_count": 17,
     "metadata": {},
     "output_type": "execute_result"
    }
   ],
   "source": [
    "df_ner_full"
   ]
  },
  {
   "cell_type": "markdown",
   "id": "26280c41",
   "metadata": {},
   "source": [
    "# | Auswertung"
   ]
  },
  {
   "cell_type": "code",
   "execution_count": 18,
   "id": "a19a1201",
   "metadata": {},
   "outputs": [],
   "source": [
    "# Laden des aktuellen Stands\n",
    "aktuellPickle = 'C:\\\\Users\\\\alexander.courtpozan\\\\Documents\\\\ACO_TH\\\\washington_post_bias\\\\aktuell.pickle'\n",
    "df = pd.read_pickle(aktuellPickle)"
   ]
  },
  {
   "cell_type": "code",
   "execution_count": 19,
   "id": "35865ed5",
   "metadata": {},
   "outputs": [
    {
     "data": {
      "text/plain": [
       "author_gender\n",
       "andy               1\n",
       "female           105\n",
       "male             149\n",
       "mostly_female      6\n",
       "mostly_male        5\n",
       "unknown           14\n",
       "Name: id, dtype: int64"
      ]
     },
     "execution_count": 19,
     "metadata": {},
     "output_type": "execute_result"
    }
   ],
   "source": [
    "df.groupby(\"author_gender\")[\"id\"].count()"
   ]
  },
  {
   "cell_type": "code",
   "execution_count": 20,
   "id": "9408d93e",
   "metadata": {},
   "outputs": [
    {
     "data": {
      "text/plain": [
       "280"
      ]
     },
     "execution_count": 20,
     "metadata": {},
     "output_type": "execute_result"
    }
   ],
   "source": [
    "# Es wurden nur 280 AutorInnen ein Gender zugewiesen\n",
    "df[\"author_gender\"].count()"
   ]
  },
  {
   "cell_type": "code",
   "execution_count": 21,
   "id": "5e6de217",
   "metadata": {},
   "outputs": [
    {
     "data": {
      "text/plain": [
       "300"
      ]
     },
     "execution_count": 21,
     "metadata": {},
     "output_type": "execute_result"
    }
   ],
   "source": [
    "# Insgesamt besteht der Datensatz aktuell aus 300 Zeilen\n",
    "df[\"id\"].count()"
   ]
  },
  {
   "cell_type": "code",
   "execution_count": 22,
   "id": "54820a84",
   "metadata": {},
   "outputs": [],
   "source": [
    "gender = [\"andy\", \"female\", \"male\", \"mostly_female\", \"mostly_male\", \"unknown\"]\n",
    "other = [\"andy\", \"mostly_female\", \"mostly_male\", \"unknown\"]"
   ]
  },
  {
   "cell_type": "code",
   "execution_count": 23,
   "id": "5fbee0e3",
   "metadata": {},
   "outputs": [
    {
     "data": {
      "text/plain": [
       "20"
      ]
     },
     "execution_count": 23,
     "metadata": {},
     "output_type": "execute_result"
    }
   ],
   "source": [
    "# Artikel denen Gender \"None\" zugeordnet wurde\n",
    "df[~df.author_gender.isin(gender)][\"id\"].count()"
   ]
  },
  {
   "cell_type": "code",
   "execution_count": 24,
   "id": "bc5e6b01",
   "metadata": {},
   "outputs": [],
   "source": [
    "# None Werte aus Spalte 'author_gender' durch 'unknown' ersetzen\n",
    "df['author_gender'] = df['author_gender'].replace({None: 'unknown'})"
   ]
  },
  {
   "cell_type": "code",
   "execution_count": 25,
   "id": "d614d441",
   "metadata": {},
   "outputs": [
    {
     "data": {
      "text/plain": [
       "'Im Datensatz sind ingesamt 300 Artikel vorhanden'"
      ]
     },
     "execution_count": 25,
     "metadata": {},
     "output_type": "execute_result"
    }
   ],
   "source": [
    "# Anzahl Artikel gesamt\n",
    "'Im Datensatz sind ingesamt ' + str(df[\"id\"].count()) + ' Artikel vorhanden'"
   ]
  },
  {
   "cell_type": "code",
   "execution_count": 26,
   "id": "7e80bdbe",
   "metadata": {},
   "outputs": [
    {
     "data": {
      "text/plain": [
       "'Die 300 Artikel wurden von insgesamt 220 AutorInnen verfasst'"
      ]
     },
     "execution_count": 26,
     "metadata": {},
     "output_type": "execute_result"
    }
   ],
   "source": [
    "# Anzahl AutorenInnen\n",
    "'Die ' + str(df[\"id\"].count()) + ' Artikel wurden von insgesamt ' + str(df[\"author\"].nunique()) + ' AutorInnen verfasst'"
   ]
  },
  {
   "cell_type": "code",
   "execution_count": 27,
   "id": "b215c83a",
   "metadata": {},
   "outputs": [
    {
     "data": {
      "text/plain": [
       "author_gender\n",
       "male             149\n",
       "female           105\n",
       "unknown           34\n",
       "mostly_female      6\n",
       "mostly_male        5\n",
       "andy               1\n",
       "Name: id, dtype: int64"
      ]
     },
     "execution_count": 27,
     "metadata": {},
     "output_type": "execute_result"
    }
   ],
   "source": [
    "# Anzahl AutorenInnen nach Gender\n",
    "df.groupby('author_gender')[\"id\"].count().sort_values(ascending=False)"
   ]
  },
  {
   "cell_type": "code",
   "execution_count": 28,
   "id": "62bf34de",
   "metadata": {},
   "outputs": [
    {
     "data": {
      "text/plain": [
       "Text(0, 0.5, 'Anzahl Artikel')"
      ]
     },
     "execution_count": 28,
     "metadata": {},
     "output_type": "execute_result"
    },
    {
     "data": {
      "image/png": "[encoded data removed]",
      "text/plain": [
       "<Figure size 432x288 with 1 Axes>"
      ]
     },
     "metadata": {
      "needs_background": "light"
     },
     "output_type": "display_data"
    }
   ],
   "source": [
    "df.groupby('author_gender')[\"id\"].count().sort_values(ascending=False).plot(kind='bar')\n",
    "plt.title('Anzahl AutorInnen nach Geschlecht')\n",
    "plt.xlabel('Geschlecht')\n",
    "plt.ylabel('Anzahl Artikel')"
   ]
  },
  {
   "cell_type": "code",
   "execution_count": 29,
   "id": "d48b3f13",
   "metadata": {},
   "outputs": [
    {
     "data": {
      "text/plain": [
       "'Die Grafik zeigt, dass 149 Artikel von Männern, 105 von Frauen und 46 vom Gender Guesser nicht klar zuordenbaren Geschlechtern verfasst worden sind.'"
      ]
     },
     "execution_count": 29,
     "metadata": {},
     "output_type": "execute_result"
    }
   ],
   "source": [
    "'Die Grafik zeigt, dass ' \\\n",
    "+ str(df[df[\"author_gender\"] == 'male'][\"id\"].count()) + ' Artikel von Männern, ' \\\n",
    "+ str(df[df[\"author_gender\"] == 'female'][\"id\"].count()) + ' von Frauen und ' \\\n",
    "+ str(df[df[\"author_gender\"].isin(other)][\"id\"].count()) + ' vom Gender Guesser nicht klar zuordenbaren Geschlechtern verfasst worden sind.'"
   ]
  },
  {
   "cell_type": "code",
   "execution_count": 30,
   "id": "d855d237",
   "metadata": {},
   "outputs": [
    {
     "data": {
      "text/plain": [
       "'Männliche Autoren verfassen bei der Washington Post im Durchschnitt 1.31 Artikel, Frauen hingegen im Durschnitt 1.28 Artikel'"
      ]
     },
     "execution_count": 30,
     "metadata": {},
     "output_type": "execute_result"
    }
   ],
   "source": [
    "# Anzahl Artikel pro AutorIn nach Gender\n",
    "'Männliche Autoren verfassen bei der Washington Post im Durchschnitt ' + str(round(df[df[\"author_gender\"] == 'male'].groupby(\"author\")[\"id\"].count().mean(), 2)) + ' Artikel, ' \\\n",
    "+ 'Frauen hingegen im Durschnitt ' + str(round(df[df[\"author_gender\"] == 'female'].groupby(\"author\")[\"id\"].count().mean(), 2)) + ' Artikel'"
   ]
  },
  {
   "cell_type": "code",
   "execution_count": 31,
   "id": "05e44a79",
   "metadata": {},
   "outputs": [
    {
     "data": {
      "text/plain": [
       "(10.0, 80.0)"
      ]
     },
     "execution_count": 31,
     "metadata": {},
     "output_type": "execute_result"
    },
    {
     "data": {
      "image/png": "[encoded data removed]",
      "text/plain": [
       "<Figure size 432x288 with 1 Axes>"
      ]
     },
     "metadata": {
      "needs_background": "light"
     },
     "output_type": "display_data"
    }
   ],
   "source": [
    "# Vader Stimmungsanalyse Auswertung (absolut) - Männliche Autoren\n",
    "df[df[\"author_gender\"] == 'male'].groupby(['compund'])[\"compund\"].count().sort_values(ascending=False).plot(kind='bar')\n",
    "plt.title('Auswertung Stimmungsanalyse bei Artikeln von männlichen Autoren (absolut)')\n",
    "plt.xlabel('Stimmung')\n",
    "plt.ylabel('Anzahl Artikel')\n",
    "plt.ylim([10, 80])"
   ]
  },
  {
   "cell_type": "code",
   "execution_count": 32,
   "id": "4fbc718b",
   "metadata": {},
   "outputs": [
    {
     "data": {
      "text/plain": [
       "Text(0, 0.5, '')"
      ]
     },
     "execution_count": 32,
     "metadata": {},
     "output_type": "execute_result"
    },
    {
     "data": {
      "image/png": "[encoded data removed]",
      "text/plain": [
       "<Figure size 432x288 with 1 Axes>"
      ]
     },
     "metadata": {},
     "output_type": "display_data"
    }
   ],
   "source": [
    "# Vader Stimmungsanalyse Auswertung (relativ) - Männliche Autoren\n",
    "vader_male = pd.DataFrame(df[df[\"author_gender\"] == 'male'].groupby(['compund'])[\"id\"].count().sort_values(ascending=False))\n",
    "vader_male[\"total\"] = df[df[\"author_gender\"] == 'male'][\"id\"].count()\n",
    "vader_male[\"relative\"] = vader_male[\"id\"] / vader_male[\"total\"] * 100\n",
    "vader_male[\"relative\"].sort_values(ascending=False).plot(kind='pie', autopct='%1.1f%%')\n",
    "plt.title('Auswertung Stimmungsanalyse bei Artikeln von männlichen Autoren (relativ)')\n",
    "plt.xlabel(\"\")\n",
    "plt.ylabel(\"\")"
   ]
  },
  {
   "cell_type": "code",
   "execution_count": 33,
   "id": "3e5ed631",
   "metadata": {},
   "outputs": [
    {
     "data": {
      "text/plain": [
       "(10.0, 80.0)"
      ]
     },
     "execution_count": 33,
     "metadata": {},
     "output_type": "execute_result"
    },
    {
     "data": {
      "image/png": "[encoded data removed]",
      "text/plain": [
       "<Figure size 432x288 with 1 Axes>"
      ]
     },
     "metadata": {
      "needs_background": "light"
     },
     "output_type": "display_data"
    }
   ],
   "source": [
    "# Vader Stimmungsanalyse Auswertung (absolut) - Weibliche Autorinnen\n",
    "df[df[\"author_gender\"] == 'female'].groupby(['compund'])[\"compund\"].count().sort_values(ascending=False).plot(kind='bar')\n",
    "plt.title('Auswertung Stimmungsanalyse bei Artikeln von weiblichen Autorinnen (absolut)')\n",
    "plt.xlabel('Stimmung')\n",
    "plt.ylabel('Anzahl Artikel')\n",
    "plt.ylim([10, 80])"
   ]
  },
  {
   "cell_type": "code",
   "execution_count": 34,
   "id": "fb9e96aa",
   "metadata": {},
   "outputs": [
    {
     "data": {
      "text/plain": [
       "Text(0, 0.5, '')"
      ]
     },
     "execution_count": 34,
     "metadata": {},
     "output_type": "execute_result"
    },
    {
     "data": {
      "image/png": "[encoded data removed]",
      "text/plain": [
       "<Figure size 432x288 with 1 Axes>"
      ]
     },
     "metadata": {},
     "output_type": "display_data"
    }
   ],
   "source": [
    "# Vader Stimmungsanalyse Auswertung (relativ) - Weibliche Autorinnen\n",
    "vader_female = pd.DataFrame(df[df[\"author_gender\"] == 'female'].groupby(['compund'])[\"id\"].count().sort_values(ascending=False))\n",
    "vader_female[\"total\"] = df[df[\"author_gender\"] == 'female'][\"id\"].count()\n",
    "vader_female[\"relative\"] = vader_female[\"id\"] / vader_female[\"total\"] * 100\n",
    "vader_female[\"relative\"].sort_values(ascending=False).plot(kind='pie', autopct='%1.1f%%')\n",
    "plt.title('Auswertung Stimmungsanalyse bei Artikeln von weibliche Autorinnen (relativ)')\n",
    "plt.xlabel(\"\")\n",
    "plt.ylabel(\"\")"
   ]
  },
  {
   "cell_type": "code",
   "execution_count": 35,
   "id": "e98e4af2",
   "metadata": {},
   "outputs": [
    {
     "data": {
      "text/html": [
       "<div>\n",
       "<style scoped>\n",
       "    .dataframe tbody tr th:only-of-type {\n",
       "        vertical-align: middle;\n",
       "    }\n",
       "\n",
       "    .dataframe tbody tr th {\n",
       "        vertical-align: top;\n",
       "    }\n",
       "\n",
       "    .dataframe thead th {\n",
       "        text-align: right;\n",
       "    }\n",
       "</style>\n",
       "<table border=\"1\" class=\"dataframe\">\n",
       "  <thead>\n",
       "    <tr style=\"text-align: right;\">\n",
       "      <th></th>\n",
       "      <th>vader_male_count</th>\n",
       "      <th>vader_male_total</th>\n",
       "      <th>vader_male_relative</th>\n",
       "      <th>vader_female_count</th>\n",
       "      <th>vader_female_total</th>\n",
       "      <th>vader_female_relative</th>\n",
       "    </tr>\n",
       "    <tr>\n",
       "      <th>compund</th>\n",
       "      <th></th>\n",
       "      <th></th>\n",
       "      <th></th>\n",
       "      <th></th>\n",
       "      <th></th>\n",
       "      <th></th>\n",
       "    </tr>\n",
       "  </thead>\n",
       "  <tbody>\n",
       "    <tr>\n",
       "      <th>Neutral</th>\n",
       "      <td>69</td>\n",
       "      <td>149</td>\n",
       "      <td>46.308725</td>\n",
       "      <td>41</td>\n",
       "      <td>105</td>\n",
       "      <td>39.047619</td>\n",
       "    </tr>\n",
       "    <tr>\n",
       "      <th>Negative</th>\n",
       "      <td>42</td>\n",
       "      <td>149</td>\n",
       "      <td>28.187919</td>\n",
       "      <td>32</td>\n",
       "      <td>105</td>\n",
       "      <td>30.476190</td>\n",
       "    </tr>\n",
       "    <tr>\n",
       "      <th>Positive</th>\n",
       "      <td>38</td>\n",
       "      <td>149</td>\n",
       "      <td>25.503356</td>\n",
       "      <td>32</td>\n",
       "      <td>105</td>\n",
       "      <td>30.476190</td>\n",
       "    </tr>\n",
       "  </tbody>\n",
       "</table>\n",
       "</div>"
      ],
      "text/plain": [
       "          vader_male_count  vader_male_total  vader_male_relative  \\\n",
       "compund                                                             \n",
       "Neutral                 69               149            46.308725   \n",
       "Negative                42               149            28.187919   \n",
       "Positive                38               149            25.503356   \n",
       "\n",
       "          vader_female_count  vader_female_total  vader_female_relative  \n",
       "compund                                                                  \n",
       "Neutral                   41                 105              39.047619  \n",
       "Negative                  32                 105              30.476190  \n",
       "Positive                  32                 105              30.476190  "
      ]
     },
     "execution_count": 35,
     "metadata": {},
     "output_type": "execute_result"
    }
   ],
   "source": [
    "# Vader Stimmungsanalyse Auswertung (relativ) - AutorInnen im Vergleich (Datentabelle)\n",
    "vader_male = vader_male.rename(columns={\"id\": \"vader_male_count\", \"total\": \"vader_male_total\", \"relative\": \"vader_male_relative\"})\n",
    "vader_female = vader_female.rename(columns={\"id\": \"vader_female_count\", \"total\": \"vader_female_total\", \"relative\": \"vader_female_relative\"})\n",
    "vader_total = pd.concat([vader_male,vader_female], axis = 1, sort = False)\n",
    "vader_total"
   ]
  },
  {
   "cell_type": "code",
   "execution_count": 36,
   "id": "aff01def",
   "metadata": {},
   "outputs": [
    {
     "data": {
      "text/plain": [
       "Text(0, 0.5, 'Anteil Artikel (in%)')"
      ]
     },
     "execution_count": 36,
     "metadata": {},
     "output_type": "execute_result"
    },
    {
     "data": {
      "image/png": "[encoded data removed]",
      "text/plain": [
       "<Figure size 432x288 with 1 Axes>"
      ]
     },
     "metadata": {
      "needs_background": "light"
     },
     "output_type": "display_data"
    }
   ],
   "source": [
    "# Vader Stimmungsanalyse Auswertung (relativ) - AutorInnen im Vergleich (Plot)\n",
    "vader_total[[\"vader_male_relative\", \"vader_female_relative\"]].plot(kind='bar')\n",
    "plt.title('Auswertung Stimmungsanalyse bei Artikeln von AutorInnen (relativ)')\n",
    "plt.xlabel('Stimmung')\n",
    "plt.ylabel('Anteil Artikel (in%)')"
   ]
  },
  {
   "cell_type": "code",
   "execution_count": 37,
   "id": "a76ef9cc",
   "metadata": {},
   "outputs": [
    {
     "data": {
      "text/plain": [
       "Text(0, 0.5, 'Anzahl Artikel')"
      ]
     },
     "execution_count": 37,
     "metadata": {},
     "output_type": "execute_result"
    },
    {
     "data": {
      "image/png": "[encoded data removed]",
      "text/plain": [
       "<Figure size 432x288 with 1 Axes>"
      ]
     },
     "metadata": {
      "needs_background": "light"
     },
     "output_type": "display_data"
    }
   ],
   "source": [
    "# Top 5 Kateogorien (absolut) - Männliche Autoren\n",
    "df[df.author_gender == 'male'].groupby(['category'])[\"id\"].count().sort_values(ascending=False).head(5).plot(kind='bar')\n",
    "plt.title('Top 5 Kategorien von männlichen Autoren (absolut)')\n",
    "plt.xlabel('Kategorie')\n",
    "plt.ylabel('Anzahl Artikel')"
   ]
  },
  {
   "cell_type": "code",
   "execution_count": 38,
   "id": "c07fff73",
   "metadata": {},
   "outputs": [
    {
     "data": {
      "text/plain": [
       "Text(0, 0.5, '')"
      ]
     },
     "execution_count": 38,
     "metadata": {},
     "output_type": "execute_result"
    },
    {
     "data": {
      "image/png": "[encoded data removed]",
      "text/plain": [
       "<Figure size 432x288 with 1 Axes>"
      ]
     },
     "metadata": {},
     "output_type": "display_data"
    }
   ],
   "source": [
    "# Top 5 Kateogorien (relativ) - Männliche Autoren\n",
    "top_male = pd.DataFrame(df[df.author_gender == 'male'].groupby(['category'])[\"id\"].count().sort_values(ascending=False).head(5))\n",
    "top_male[\"total\"] = df[df[\"author_gender\"] == 'male'][\"id\"].count()\n",
    "top_male[\"relative\"] = top_male[\"id\"] / top_male[\"total\"] * 100\n",
    "top_male[\"relative\"].sort_values(ascending=False).plot(kind='pie', autopct='%1.1f%%')\n",
    "plt.title('Top 5 Kategorien von männlichen Autoren (relativ)')\n",
    "plt.xlabel(\"\")\n",
    "plt.ylabel(\"\")\n",
    "\n",
    "# Info: Prozentualer Anteil auf Basis der Top 5 Kategorien"
   ]
  },
  {
   "cell_type": "code",
   "execution_count": 39,
   "id": "e8385c53",
   "metadata": {},
   "outputs": [
    {
     "data": {
      "text/plain": [
       "Text(0, 0.5, 'Anzahl Artikel')"
      ]
     },
     "execution_count": 39,
     "metadata": {},
     "output_type": "execute_result"
    },
    {
     "data": {
      "image/png": "[encoded data removed]",
      "text/plain": [
       "<Figure size 432x288 with 1 Axes>"
      ]
     },
     "metadata": {
      "needs_background": "light"
     },
     "output_type": "display_data"
    }
   ],
   "source": [
    "# Top 5 Kateogorien - Weibliche Autorinnen\n",
    "df[df.author_gender == 'female'].groupby(['category'])[\"id\"].count().sort_values(ascending=False).head(5).plot(kind='bar')\n",
    "plt.title('Top 5 Kategorien von weiblichen Autorinnen (absolut)')\n",
    "plt.xlabel('Kategorie')\n",
    "plt.ylabel('Anzahl Artikel')"
   ]
  },
  {
   "cell_type": "code",
   "execution_count": 40,
   "id": "d150348b",
   "metadata": {},
   "outputs": [
    {
     "data": {
      "text/plain": [
       "Text(0, 0.5, '')"
      ]
     },
     "execution_count": 40,
     "metadata": {},
     "output_type": "execute_result"
    },
    {
     "data": {
      "image/png": "[encoded data removed]",
      "text/plain": [
       "<Figure size 432x288 with 1 Axes>"
      ]
     },
     "metadata": {},
     "output_type": "display_data"
    }
   ],
   "source": [
    "# Top 5 Kateogorien (relativ) - Weibliche Autoreninnen\n",
    "top_female = pd.DataFrame(df[df.author_gender == 'female'].groupby(['category'])[\"id\"].count().sort_values(ascending=False).head(5))\n",
    "top_female[\"total\"] = df[df[\"author_gender\"] == 'female'][\"id\"].count()\n",
    "top_female[\"relative\"] = top_female[\"id\"] / top_female[\"total\"] * 100\n",
    "top_female[\"relative\"].sort_values(ascending=False).plot(kind='pie', autopct='%1.1f%%')\n",
    "plt.title('Top 5 Kategorien von weiblichen Autoreninnen (relativ)')\n",
    "plt.xlabel(\"\")\n",
    "plt.ylabel(\"\")\n",
    "\n",
    "# Info: Prozentualer Anteil auf Basis der Top 5 Kategorien"
   ]
  },
  {
   "cell_type": "code",
   "execution_count": 41,
   "id": "ee94f83f",
   "metadata": {},
   "outputs": [],
   "source": [
    "# Auswertung Länge der Artikel/Texte und Speicherung unter neuer Spalte 'len_text'\n",
    "df[\"len_text\"] = df.apply(lambda row: len(str(row[\"text\"])), axis=1)"
   ]
  },
  {
   "cell_type": "code",
   "execution_count": 42,
   "id": "4fcaa1d6",
   "metadata": {},
   "outputs": [
    {
     "data": {
      "text/plain": [
       "Text(0, 0.5, 'Durschnittliche Anzahl Wörter')"
      ]
     },
     "execution_count": 42,
     "metadata": {},
     "output_type": "execute_result"
    },
    {
     "data": {
      "image/png": "[encoded data removed]",
      "text/plain": [
       "<Figure size 432x288 with 1 Axes>"
      ]
     },
     "metadata": {
      "needs_background": "light"
     },
     "output_type": "display_data"
    }
   ],
   "source": [
    "# Durchschnittliche Wörter nach Geschlecht\n",
    "df[~df.author_gender.isin(other)].groupby(['author_gender'])[\"len_text\"].mean().plot(kind='barh')\n",
    "plt.title('Durschnittliche Anzahl von Wörtern von Washington Post Artikeln')\n",
    "plt.xlabel('Geschlecht')\n",
    "plt.ylabel('Durschnittliche Anzahl Wörter')"
   ]
  },
  {
   "cell_type": "code",
   "execution_count": 43,
   "id": "1268752d",
   "metadata": {},
   "outputs": [
    {
     "data": {
      "text/plain": [
       "'Die Grafik zeigt, dass männliche Autoren im Durchschnitt 3962.64 Wörter verfassen und weibliche Autorinnen im Durchschnitt 3510.12 Wörter verfassen '"
      ]
     },
     "execution_count": 43,
     "metadata": {},
     "output_type": "execute_result"
    }
   ],
   "source": [
    "'Die Grafik zeigt, dass' \\\n",
    "+ ' männliche Autoren im Durchschnitt ' +  str(round(df[df[\"author_gender\"] == 'male'][\"len_text\"].mean(),2)) + ' Wörter verfassen' \\\n",
    "+ ' und weibliche Autorinnen im Durchschnitt ' +  str(round(df[df[\"author_gender\"] == 'female'][\"len_text\"].mean(),2)) + ' Wörter verfassen '"
   ]
  },
  {
   "cell_type": "markdown",
   "id": "8ba1d23b",
   "metadata": {},
   "source": [
    "### Gender Guesser"
   ]
  },
  {
   "cell_type": "code",
   "execution_count": 44,
   "id": "11eb86b8",
   "metadata": {},
   "outputs": [
    {
     "data": {
      "text/plain": [
       "<AxesSubplot:xlabel='gender_guesser'>"
      ]
     },
     "execution_count": 44,
     "metadata": {},
     "output_type": "execute_result"
    },
    {
     "data": {
      "image/png": "[encoded data removed]",
      "text/plain": [
       "<Figure size 432x288 with 1 Axes>"
      ]
     },
     "metadata": {
      "needs_background": "light"
     },
     "output_type": "display_data"
    }
   ],
   "source": [
    "# Anzahl von Gender-Erwähnungen in Artikeln pro Author Gender\n",
    "df_ner_full[df_ner_full.author_gender == 'male'].groupby(['gender_guesser'])[\"gender_guesser\"].count().sort_values(ascending=False).plot(kind=\"bar\")"
   ]
  },
  {
   "cell_type": "code",
   "execution_count": 45,
   "id": "31000c7d",
   "metadata": {},
   "outputs": [
    {
     "data": {
      "text/plain": [
       "<AxesSubplot:xlabel='gender_guesser'>"
      ]
     },
     "execution_count": 45,
     "metadata": {},
     "output_type": "execute_result"
    },
    {
     "data": {
      "image/png": "[encoded data removed]",
      "text/plain": [
       "<Figure size 432x288 with 1 Axes>"
      ]
     },
     "metadata": {
      "needs_background": "light"
     },
     "output_type": "display_data"
    }
   ],
   "source": [
    "# Anzahl von Gender-Erwähnungen in Artikeln pro Author Gender\n",
    "df_ner_full[df_ner_full.author_gender == 'female'].groupby(['gender_guesser'])[\"gender_guesser\"].count().sort_values(ascending=False).plot(kind=\"bar\")"
   ]
  },
  {
   "cell_type": "code",
   "execution_count": 46,
   "id": "18aedd7e",
   "metadata": {},
   "outputs": [
    {
     "data": {
      "text/html": [
       "<div>\n",
       "<style scoped>\n",
       "    .dataframe tbody tr th:only-of-type {\n",
       "        vertical-align: middle;\n",
       "    }\n",
       "\n",
       "    .dataframe tbody tr th {\n",
       "        vertical-align: top;\n",
       "    }\n",
       "\n",
       "    .dataframe thead th {\n",
       "        text-align: right;\n",
       "    }\n",
       "</style>\n",
       "<table border=\"1\" class=\"dataframe\">\n",
       "  <thead>\n",
       "    <tr style=\"text-align: right;\">\n",
       "      <th></th>\n",
       "      <th>count_male</th>\n",
       "      <th>count_female</th>\n",
       "    </tr>\n",
       "    <tr>\n",
       "      <th>gender_guesser</th>\n",
       "      <th></th>\n",
       "      <th></th>\n",
       "    </tr>\n",
       "  </thead>\n",
       "  <tbody>\n",
       "    <tr>\n",
       "      <th>andy</th>\n",
       "      <td>17</td>\n",
       "      <td>9</td>\n",
       "    </tr>\n",
       "    <tr>\n",
       "      <th>female</th>\n",
       "      <td>153</td>\n",
       "      <td>199</td>\n",
       "    </tr>\n",
       "    <tr>\n",
       "      <th>male</th>\n",
       "      <td>944</td>\n",
       "      <td>513</td>\n",
       "    </tr>\n",
       "    <tr>\n",
       "      <th>mostly_female</th>\n",
       "      <td>35</td>\n",
       "      <td>29</td>\n",
       "    </tr>\n",
       "    <tr>\n",
       "      <th>mostly_male</th>\n",
       "      <td>76</td>\n",
       "      <td>29</td>\n",
       "    </tr>\n",
       "    <tr>\n",
       "      <th>unknown</th>\n",
       "      <td>826</td>\n",
       "      <td>464</td>\n",
       "    </tr>\n",
       "  </tbody>\n",
       "</table>\n",
       "</div>"
      ],
      "text/plain": [
       "                count_male  count_female\n",
       "gender_guesser                          \n",
       "andy                    17             9\n",
       "female                 153           199\n",
       "male                   944           513\n",
       "mostly_female           35            29\n",
       "mostly_male             76            29\n",
       "unknown                826           464"
      ]
     },
     "execution_count": 46,
     "metadata": {},
     "output_type": "execute_result"
    }
   ],
   "source": [
    "male_guesser = pd.DataFrame(df_ner_full[df_ner_full.author_gender == 'male'].groupby(['gender_guesser'])[\"id\"].count())\n",
    "male_guesser = male_guesser.rename(columns={\"id\": \"count_male\"})\n",
    "female_guesser = pd.DataFrame(df_ner_full[df_ner_full.author_gender == 'female'].groupby(['gender_guesser'])[\"id\"].count())\n",
    "female_guesser = female_guesser.rename(columns={\"id\": \"count_female\"})\n",
    "total_guesser = pd.concat([male_guesser,female_guesser], axis = 1, sort = False)\n",
    "total_guesser"
   ]
  },
  {
   "cell_type": "code",
   "execution_count": 47,
   "id": "2e51fa77",
   "metadata": {},
   "outputs": [
    {
     "data": {
      "text/html": [
       "<div>\n",
       "<style scoped>\n",
       "    .dataframe tbody tr th:only-of-type {\n",
       "        vertical-align: middle;\n",
       "    }\n",
       "\n",
       "    .dataframe tbody tr th {\n",
       "        vertical-align: top;\n",
       "    }\n",
       "\n",
       "    .dataframe thead th {\n",
       "        text-align: right;\n",
       "    }\n",
       "</style>\n",
       "<table border=\"1\" class=\"dataframe\">\n",
       "  <thead>\n",
       "    <tr style=\"text-align: right;\">\n",
       "      <th></th>\n",
       "      <th>count_male</th>\n",
       "      <th>count_female</th>\n",
       "    </tr>\n",
       "    <tr>\n",
       "      <th>gender_guesser</th>\n",
       "      <th></th>\n",
       "      <th></th>\n",
       "    </tr>\n",
       "  </thead>\n",
       "  <tbody>\n",
       "    <tr>\n",
       "      <th>female</th>\n",
       "      <td>153</td>\n",
       "      <td>199</td>\n",
       "    </tr>\n",
       "    <tr>\n",
       "      <th>male</th>\n",
       "      <td>944</td>\n",
       "      <td>513</td>\n",
       "    </tr>\n",
       "  </tbody>\n",
       "</table>\n",
       "</div>"
      ],
      "text/plain": [
       "                count_male  count_female\n",
       "gender_guesser                          \n",
       "female                 153           199\n",
       "male                   944           513"
      ]
     },
     "execution_count": 47,
     "metadata": {},
     "output_type": "execute_result"
    }
   ],
   "source": [
    "total_guesser = total_guesser.drop(other)\n",
    "total_guesser"
   ]
  },
  {
   "cell_type": "code",
   "execution_count": 48,
   "id": "62130ec7",
   "metadata": {},
   "outputs": [
    {
     "data": {
      "text/html": [
       "<div>\n",
       "<style scoped>\n",
       "    .dataframe tbody tr th:only-of-type {\n",
       "        vertical-align: middle;\n",
       "    }\n",
       "\n",
       "    .dataframe tbody tr th {\n",
       "        vertical-align: top;\n",
       "    }\n",
       "\n",
       "    .dataframe thead th {\n",
       "        text-align: right;\n",
       "    }\n",
       "</style>\n",
       "<table border=\"1\" class=\"dataframe\">\n",
       "  <thead>\n",
       "    <tr style=\"text-align: right;\">\n",
       "      <th></th>\n",
       "      <th>count_male</th>\n",
       "      <th>count_female</th>\n",
       "      <th>total_male</th>\n",
       "      <th>relative_male</th>\n",
       "      <th>total_female</th>\n",
       "      <th>relative_female</th>\n",
       "    </tr>\n",
       "    <tr>\n",
       "      <th>gender_guesser</th>\n",
       "      <th></th>\n",
       "      <th></th>\n",
       "      <th></th>\n",
       "      <th></th>\n",
       "      <th></th>\n",
       "      <th></th>\n",
       "    </tr>\n",
       "  </thead>\n",
       "  <tbody>\n",
       "    <tr>\n",
       "      <th>female</th>\n",
       "      <td>153</td>\n",
       "      <td>199</td>\n",
       "      <td>2051</td>\n",
       "      <td>7.459776</td>\n",
       "      <td>1243</td>\n",
       "      <td>16.009654</td>\n",
       "    </tr>\n",
       "    <tr>\n",
       "      <th>male</th>\n",
       "      <td>944</td>\n",
       "      <td>513</td>\n",
       "      <td>2051</td>\n",
       "      <td>46.026329</td>\n",
       "      <td>1243</td>\n",
       "      <td>41.271118</td>\n",
       "    </tr>\n",
       "  </tbody>\n",
       "</table>\n",
       "</div>"
      ],
      "text/plain": [
       "                count_male  count_female  total_male  relative_male  \\\n",
       "gender_guesser                                                        \n",
       "female                 153           199        2051       7.459776   \n",
       "male                   944           513        2051      46.026329   \n",
       "\n",
       "                total_female  relative_female  \n",
       "gender_guesser                                 \n",
       "female                  1243        16.009654  \n",
       "male                    1243        41.271118  "
      ]
     },
     "execution_count": 48,
     "metadata": {},
     "output_type": "execute_result"
    }
   ],
   "source": [
    "total_guesser[\"total_male\"] = df_ner_full[df_ner_full.author_gender == 'male'][\"id\"].count()\n",
    "total_guesser[\"relative_male\"] = total_guesser[\"count_male\"] / total_guesser[\"total_male\"] * 100\n",
    "total_guesser[\"total_female\"] = df_ner_full[df_ner_full.author_gender == 'female'][\"id\"].count()\n",
    "total_guesser[\"relative_female\"] = total_guesser[\"count_female\"] / total_guesser[\"total_female\"] * 100\n",
    "total_guesser"
   ]
  },
  {
   "cell_type": "code",
   "execution_count": 49,
   "id": "fa9ceb52",
   "metadata": {},
   "outputs": [
    {
     "data": {
      "text/plain": [
       "Text(0, 0.5, 'Anzahl')"
      ]
     },
     "execution_count": 49,
     "metadata": {},
     "output_type": "execute_result"
    },
    {
     "data": {
      "image/png": "[encoded data removed]",
      "text/plain": [
       "<Figure size 432x288 with 1 Axes>"
      ]
     },
     "metadata": {
      "needs_background": "light"
     },
     "output_type": "display_data"
    }
   ],
   "source": [
    "total_guesser[[\"count_male\", \"count_female\"]].sort_values(by='count_male', ascending=False).plot(kind=\"bar\")\n",
    "plt.title('Identifizierung von erwähnten Personen in Artikeln (absolut)')\n",
    "plt.xlabel('Geschlecht')\n",
    "plt.ylabel('Anzahl')"
   ]
  },
  {
   "cell_type": "code",
   "execution_count": 50,
   "id": "fceb104d",
   "metadata": {},
   "outputs": [
    {
     "data": {
      "text/plain": [
       "Text(0.5, 1.0, 'Identifizierung von erwähnten Personen in Artikeln (relative)')"
      ]
     },
     "execution_count": 50,
     "metadata": {},
     "output_type": "execute_result"
    },
    {
     "data": {
      "image/png": "[encoded data removed]",
      "text/plain": [
       "<Figure size 432x288 with 2 Axes>"
      ]
     },
     "metadata": {},
     "output_type": "display_data"
    }
   ],
   "source": [
    "total_guesser[[\"relative_male\", \"relative_female\"]].sort_values(by='relative_male', ascending=False).plot(kind=\"pie\", subplots=True, autopct='%1.1f%%')\n",
    "plt.title('Identifizierung von erwähnten Personen in Artikeln (relative)')"
   ]
  },
  {
   "cell_type": "code",
   "execution_count": 51,
   "id": "996a935c",
   "metadata": {},
   "outputs": [],
   "source": [
    "# Gründe für Unkown aufzeigen\n",
    "# Was ist wenn mehrere Persons in Artikel? Frage an Julia\n",
    "# Gender None , warum?"
   ]
  },
  {
   "cell_type": "markdown",
   "id": "b3974fae",
   "metadata": {},
   "source": [
    "---\n",
    "---\n",
    "---\n",
    "---\n",
    "---\n",
    "---\n",
    "\n",
    "# | UNFERTIGE FUNKTIONEN"
   ]
  },
  {
   "cell_type": "code",
   "execution_count": null,
   "id": "e0391df9",
   "metadata": {},
   "outputs": [],
   "source": [
    "# id\n",
    "# article_url\n",
    "# title\n",
    "# author\n",
    "# published_date\n",
    "# type\n",
    "# source\n",
    "# content\n",
    "# publish_date\n",
    "# orig-id\n",
    "# text\n",
    "# merged_total_text\n",
    "# entitys\n",
    "\n",
    "# df[df['publish_date'].isnull()]"
   ]
  },
  {
   "cell_type": "code",
   "execution_count": 81,
   "id": "8d7e3728",
   "metadata": {},
   "outputs": [],
   "source": [
    "# NER 'PERSON' STARTS HERE\n",
    "#df = (df.loc[df['entity_type'].isin(['PERSON'])])"
   ]
  },
  {
   "cell_type": "code",
   "execution_count": null,
   "id": "49f4aefc",
   "metadata": {},
   "outputs": [],
   "source": [
    "#df[\"entity\"] = df['entity'].str.replace('[\\[\\]\\\"\\'\\d\\,\\<\\/]','')"
   ]
  },
  {
   "cell_type": "code",
   "execution_count": null,
   "id": "506bc2c3",
   "metadata": {},
   "outputs": [],
   "source": [
    "# Replace artist names (Sting, Bono, Cher etc.) with name according to wikipedia\n",
    "def replaceEntityNames(x):\n",
    "    try:\n",
    "        entitys = x.entitys\n",
    "        artists = {\n",
    "            'JFK': 'John Fitzgerald Kennedy',\n",
    "            'FDR': 'Franklin Delano Roosevelt',\n",
    "            'Sting': 'Gordon Matthew Sumner',\n",
    "            'Bono': 'Paul David Hewson',\n",
    "            'Cher': 'Cherilyn Sarkisian',\n",
    "            'Madonna': 'Madonna Louise Ciccone',\n",
    "            'Adele': 'Adele Laurie Adkins',\n",
    "            'Eminem': 'Marshall Bruce Mathers',\n",
    "            'Beyonce': 'Beyoncé Knowles-Carter',\n",
    "            'Blaine Friedlander': 'Blaine P. Friedlander Jr.'\n",
    "        }\n",
    "\n",
    "        for entityKey, entityValue in entitys.items():\n",
    "            if entityValue == 'PERSON':\n",
    "                for artAbkzg, artName in artists.items():\n",
    "                    if entityKey == artAbkzg:\n",
    "                        entitys[artName]=entityValue\n",
    "                        del entitys[entityKey]  \n",
    "    \n",
    "        return entitys\n",
    "    except:\n",
    "        return x.entitys\n",
    "# !!! NOCH FEHLERHAFT\n",
    "#df['entitys'] = df.parallel_apply(replaceEntityNames, axis=1)"
   ]
  },
  {
   "cell_type": "code",
   "execution_count": null,
   "id": "3ccc2347",
   "metadata": {},
   "outputs": [],
   "source": [
    "df = df[df['author'] != df['entity']] # if author is in col entity -> remove, we only want \"Person\" from within the article\n",
    "# To do: Blaine P. Friedlander Jr. vs. Blaine Friedlander "
   ]
  },
  {
   "cell_type": "markdown",
   "id": "cadf52c8",
   "metadata": {},
   "source": [
    "## Split first, middle and last name in different cols"
   ]
  },
  {
   "cell_type": "code",
   "execution_count": null,
   "id": "d53e317d",
   "metadata": {},
   "outputs": [],
   "source": [
    "# Write first, middle and last name in different cols\n",
    "# to do: split middle and last name does not work\n",
    "def split_name(df, var):\n",
    "    sub_df = df[var].str.split('\\\\s+', expand=True)\n",
    "    result = []\n",
    "\n",
    "    for _, row in sub_df.iterrows():\n",
    "        info = {'first_name': '', 'middle_name': '', 'last_name': ''}\n",
    "        n = row.count()\n",
    "\n",
    "        if n == 0:\n",
    "            pass\n",
    "        elif n == 1:\n",
    "            info['last_name'] = row.iloc[0]\n",
    "        elif n == 2:\n",
    "            info['first_name'], info['last_name'] = row.iloc[:2]\n",
    "        else:\n",
    "            info['first_name'] = row.iloc[0]\n",
    "            info['last_name'] = row.iloc[-1]\n",
    "            info['middle_name'] = ' '.join([(string or '') for string in row.iloc[1:-1]])\n",
    "        result.append(info)\n",
    "    return pd.DataFrame(result, index=df.index)\n",
    "\n",
    "df_names = split_name(df, 'entitys')\n",
    "df = df.join(df_names)"
   ]
  },
  {
   "cell_type": "markdown",
   "id": "dfb19388",
   "metadata": {},
   "source": [
    "## | Enrich first name if only last name is mentioned"
   ]
  },
  {
   "cell_type": "code",
   "execution_count": null,
   "id": "66dcbc56",
   "metadata": {},
   "outputs": [],
   "source": [
    "names = df.groupby('id')['entity'].apply(lambda x: list(np.unique(x)))\n",
    "# To do: if only one token (\"Obama\") drop or don't write to list"
   ]
  },
  {
   "cell_type": "code",
   "execution_count": null,
   "id": "cfb71d90",
   "metadata": {},
   "outputs": [],
   "source": [
    "# function for enriching first name if only last name is mentioned\n",
    "from tqdm import tqdm\n",
    "tqdm.pandas()\n",
    "def enrich_firstname(row):\n",
    "    \n",
    "    entity = row['entity']#.copy()\n",
    "    firstname = row['first_name']#.copy()\n",
    "    lastname = row['last_name']#.copy()\n",
    "    \n",
    "    #if len(firstname) == 0:\n",
    "        # look in list per id for key and write value?\n",
    "    # elif \n",
    "    # bestehende Vornamen nicht überschreiben\n",
    "    #else:\n",
    "    #    row['first_name'] = 'unknown'\n",
    "    return row\n",
    "\n",
    "df_test = df_test.progress_apply(enrich_firstname, axis=1)\n"
   ]
  },
  {
   "cell_type": "markdown",
   "id": "6d6ede2e",
   "metadata": {},
   "source": [
    "# | Gender Guesser"
   ]
  },
  {
   "cell_type": "code",
   "execution_count": null,
   "id": "5d59f6aa",
   "metadata": {},
   "outputs": [],
   "source": [
    "# !pip install gender_guesser    \n",
    "import gender_guesser.detector as gender\n",
    "gd = gender.Detector()\n",
    "df['gender_guesser'] = df['first_name'].apply(str.capitalize).map(lambda x: gd.get_gender(x))"
   ]
  },
  {
   "cell_type": "markdown",
   "id": "580d078e",
   "metadata": {},
   "source": [
    "> __unknown__ (name not found), __andy__ (androgynous), __male__, __female__, __mostly_male__, or __mostly_female__. The difference between andy and unknown is that the former is found to have the same probability to be male than to be female, while the later means that the name wasn’t found in the database."
   ]
  },
  {
   "cell_type": "code",
   "execution_count": null,
   "id": "24be056b",
   "metadata": {},
   "outputs": [],
   "source": [
    "df.gender_guesser.value_counts()"
   ]
  },
  {
   "cell_type": "code",
   "execution_count": null,
   "id": "23404e81",
   "metadata": {},
   "outputs": [],
   "source": [
    "df.loc[df['gender_guesser'] == 'unknown'][:40]"
   ]
  },
  {
   "cell_type": "code",
   "execution_count": null,
   "id": "80f5d075",
   "metadata": {},
   "outputs": [],
   "source": [
    "# df.first_name.value_counts()[:40]"
   ]
  },
  {
   "cell_type": "code",
   "execution_count": null,
   "id": "51b1516c",
   "metadata": {},
   "outputs": [],
   "source": [
    "# to do:\n",
    "# Namen cleanen\n",
    "# weitere lib für gender identification einbauen\n",
    "# function schreiben: wenn nur Nachname genannt, schaue in Liste/anderer Zeile pro Artikel, ob Name schon genannt, dann Vorname auffüllen\n",
    "# oder\n",
    "# wenn Obama, Santorum, Gingrich, etc. dann aus erstellter Liste oder via Wikidata mit Vornamen auffüllen\n",
    "# # dominique rodgers cromartie etc. (famous people)  -> Wikidata? "
   ]
  },
  {
   "cell_type": "markdown",
   "id": "76df8496",
   "metadata": {},
   "source": [
    "---\n",
    "# | Group per article and get share of gender per article"
   ]
  },
  {
   "cell_type": "code",
   "execution_count": null,
   "id": "9598d011",
   "metadata": {},
   "outputs": [],
   "source": [
    "# next"
   ]
  },
  {
   "cell_type": "markdown",
   "id": "a2c40063",
   "metadata": {},
   "source": [
    "# | Wikidata Query"
   ]
  },
  {
   "cell_type": "code",
   "execution_count": null,
   "id": "625c1708",
   "metadata": {},
   "outputs": [],
   "source": [
    "# oder das https://stackoverflow.com/questions/51419785/extract-data-from-wikidata-in-python\n",
    "\n",
    "import requests\n",
    "\n",
    "sparql_query = \"\"\"\n",
    "        prefix schema: <http://schema.org/>\n",
    "        SELECT ?item ?occupation ?genderLabel ?bdayLabel\n",
    "        WHERE {\n",
    "            <https://en.wikipedia.org/wiki/Angela_Merkel> schema:about ?item .\n",
    "            ?item wdt:P21 ?gender .\n",
    "            SERVICE wikibase:label { bd:serviceParam wikibase:language \"en\" }\n",
    "        }\n",
    "    \"\"\""
   ]
  },
  {
   "cell_type": "code",
   "execution_count": null,
   "id": "99a50b71",
   "metadata": {},
   "outputs": [],
   "source": [
    "url = 'https://query.wikidata.org/sparql'\n",
    "\n",
    "# sleep(2)\n",
    "r = requests.get(url, params={'format': 'json', 'query': sparql_query})"
   ]
  },
  {
   "cell_type": "code",
   "execution_count": null,
   "id": "eec87c8a",
   "metadata": {},
   "outputs": [],
   "source": [
    "url = 'https://query.wikidata.org/sparql'\n",
    "\n",
    "r = requests.get(url, params={'format': 'json', 'query': sparql_query})\n",
    "data = r.json()\n",
    "\n",
    "print(data['results']['bindings'])"
   ]
  }
 ],
 "metadata": {
  "kernelspec": {
   "display_name": "Python 3 (ipykernel)",
   "language": "python",
   "name": "python3"
  },
  "language_info": {
   "codemirror_mode": {
    "name": "ipython",
    "version": 3
   },
   "file_extension": ".py",
   "mimetype": "text/x-python",
   "name": "python",
   "nbconvert_exporter": "python",
   "pygments_lexer": "ipython3",
   "version": "3.8.13"
  },
  "toc": {
   "base_numbering": 1,
   "nav_menu": {},
   "number_sections": true,
   "sideBar": false,
   "skip_h1_title": false,
   "title_cell": "Table of Contents",
   "title_sidebar": "Contents",
   "toc_cell": true,
   "toc_position": {},
   "toc_section_display": true,
   "toc_window_display": false
  }
 },
 "nbformat": 4,
 "nbformat_minor": 5
}
