{
 "cells": [
  {
   "cell_type": "markdown",
   "id": "9602ebaa",
   "metadata": {
    "toc": true
   },
   "source": [
    "<h1>Table of Contents<span class=\"tocSkip\"></span></h1>\n",
    "<div class=\"toc\"><ul class=\"toc-item\"><li><span><a href=\"#|-Preliminaries\" data-toc-modified-id=\"|-Preliminaries-1\"><span class=\"toc-item-num\">1&nbsp;&nbsp;</span>| Preliminaries</a></span></li><li><span><a href=\"#|-Cleaning\" data-toc-modified-id=\"|-Cleaning-2\"><span class=\"toc-item-num\">2&nbsp;&nbsp;</span>| Cleaning</a></span></li><li><span><a href=\"#|-Named-Entity-Recognition-w/-spaCy\" data-toc-modified-id=\"|-Named-Entity-Recognition-w/-spaCy-3\"><span class=\"toc-item-num\">3&nbsp;&nbsp;</span>| Named Entity Recognition w/ spaCy</a></span><ul class=\"toc-item\"><li><span><a href=\"#Split-first,-middle-and-last-name-in-different-cols\" data-toc-modified-id=\"Split-first,-middle-and-last-name-in-different-cols-3.1\"><span class=\"toc-item-num\">3.1&nbsp;&nbsp;</span>Split first, middle and last name in different cols</a></span></li><li><span><a href=\"#|-Enrich-first-name-if-only-last-name-is-mentioned\" data-toc-modified-id=\"|-Enrich-first-name-if-only-last-name-is-mentioned-3.2\"><span class=\"toc-item-num\">3.2&nbsp;&nbsp;</span>| Enrich first name if only last name is mentioned</a></span></li></ul></li><li><span><a href=\"#|-Gender-Guesser\" data-toc-modified-id=\"|-Gender-Guesser-4\"><span class=\"toc-item-num\">4&nbsp;&nbsp;</span>| Gender Guesser</a></span></li><li><span><a href=\"#|-Group-per-article-and-get-share-of-gender-per-article\" data-toc-modified-id=\"|-Group-per-article-and-get-share-of-gender-per-article-5\"><span class=\"toc-item-num\">5&nbsp;&nbsp;</span>| Group per article and get share of gender per article</a></span></li><li><span><a href=\"#|-Wikidata-Query\" data-toc-modified-id=\"|-Wikidata-Query-6\"><span class=\"toc-item-num\">6&nbsp;&nbsp;</span>| Wikidata Query</a></span></li></ul></div>"
   ]
  },
  {
   "cell_type": "markdown",
   "id": "6cb76889",
   "metadata": {},
   "source": [
    "# | Preliminaries"
   ]
  },
  {
   "cell_type": "code",
   "execution_count": 1,
   "id": "ddcda29f",
   "metadata": {},
   "outputs": [],
   "source": [
    "import os\n",
    "import json\n",
    "import pandas as pd\n",
    "import numpy as np\n",
    "import regex as re\n",
    "from pandarallel import pandarallel\n",
    "import pathlib\n",
    "\n",
    "#from bs4 import BeautifulSoup as bs\n",
    "\n",
    "# SpaCy \n",
    "import spacy\n",
    "import en_core_web_trf\n",
    "\n",
    "nlp = spacy.load(\"en_core_web_trf\")\n",
    "\n",
    "from spacy.matcher import PhraseMatcher\n",
    "from spacy.tokens import Span\n",
    "\n",
    "import warnings\n",
    "warnings.filterwarnings('ignore') # (action='once')"
   ]
  },
  {
   "cell_type": "code",
   "execution_count": 2,
   "id": "42b1004c",
   "metadata": {},
   "outputs": [
    {
     "name": "stdout",
     "output_type": "stream",
     "text": [
      "INFO: Pandarallel will run on 8 workers.\n",
      "INFO: Pandarallel will use standard multiprocessing data transfer (pipe) to transfer data between the main process and workers.\n",
      "\n",
      "WARNING: You are on Windows. If you detect any issue with pandarallel, be sure you checked out the Troubleshooting page:\n",
      "https://nalepae.github.io/pandarallel/troubleshooting/\n"
     ]
    }
   ],
   "source": [
    "pandarallel.initialize(progress_bar=True)\n",
    "#pandarallel.initialize()"
   ]
  },
  {
   "cell_type": "code",
   "execution_count": 3,
   "id": "742b8e80",
   "metadata": {},
   "outputs": [
    {
     "data": {
      "text/plain": [
       "['C:\\\\Users\\\\Felix\\\\github\\\\privat\\\\dis25_abgabe\\\\data\\\\wpdata\\\\data\\\\small\\\\TREC_Washington_Post1.pickle',\n",
       " 'C:\\\\Users\\\\Felix\\\\github\\\\privat\\\\dis25_abgabe\\\\data\\\\wpdata\\\\data\\\\small\\\\TREC_Washington_Post2.pickle',\n",
       " 'C:\\\\Users\\\\Felix\\\\github\\\\privat\\\\dis25_abgabe\\\\data\\\\wpdata\\\\data\\\\small\\\\TREC_Washington_Post3.pickle',\n",
       " 'C:\\\\Users\\\\Felix\\\\github\\\\privat\\\\dis25_abgabe\\\\data\\\\wpdata\\\\data\\\\small\\\\TREC_Washington_Post4.pickle']"
      ]
     },
     "execution_count": 3,
     "metadata": {},
     "output_type": "execute_result"
    }
   ],
   "source": [
    "def splitFile(TRECfile, quantity):\n",
    "    \"\"\"\n",
    "    TREC_Washington_Post_collection.v4.jl has 728626 Lines and has 15GB.\n",
    "    It is to large to read into one Dataframe for the most PCs.\n",
    "    With this function you can split the big TREC-File into as many\n",
    "    small files you want.\n",
    "    \n",
    "    args: \n",
    "    TRECfile = Complete Path + Filename\n",
    "    quantitiy = How many Small files you want to create\n",
    "    \"\"\"\n",
    "    \n",
    "    # Splitting the Filename out of the Path\n",
    "    TRECpath = TRECfile.split('\\\\')\n",
    "    TRECpath = TRECfile[:(len(TRECpath[-1])*-1)-1]\n",
    "    \n",
    "    # Creating a subfolder 'small' for the new Files\n",
    "    TRECpathSmall = os.path.join(TRECpath, 'small')\n",
    "    if not os.path.exists(TRECpathSmall):\n",
    "        os.makedirs(TRECpathSmall)\n",
    "        print(f'{TRECpathSmall} wurde erstellt.')\n",
    "    \n",
    "    # If the folder 'small' is noot already there and has data skip this function\n",
    "    TRECfileSmall = os.listdir(TRECpathSmall)\n",
    "    if not TRECfileSmall:\n",
    "        smallfiles = []\n",
    "        lines_per_file = int(729000/quantity)\n",
    "        \n",
    "        smallfile = None\n",
    "        i = 1\n",
    "        try:\n",
    "            with open(TRECfile) as bigfile:\n",
    "                for lineno, line in enumerate(bigfile):\n",
    "                    if lineno % lines_per_file == 0:\n",
    "                        if smallfile:\n",
    "                            smallfile.close()\n",
    "                        #small_filename = 'TREC_Washington_Post_small_{}.jl'.format(lineno + lines_per_file)\n",
    "                        small_filename = f'TREC_Washington_Post_small_{i}.jl'\n",
    "                        small_filename = os.path.join(TRECpathSmall, small_filename)\n",
    "                        print(f'{small_filename} wird erstellt')\n",
    "                        smallfiles.append(small_filename)\n",
    "                        i+=1\n",
    "                        smallfile = open(small_filename, \"w\")\n",
    "                    smallfile.write(line)\n",
    "                if smallfile:\n",
    "                    smallfile.close()\n",
    "            return smallfiles\n",
    "        except:\n",
    "            print('TREC_Washington_Post_collection.v4.jl nicht gefunden')\n",
    "    else:\n",
    "        # If the folder 'small' is already there and has data create a list of the data\n",
    "        TRECfileSmall = os.listdir(TRECpathSmall)\n",
    "        smallfiles = []\n",
    "        for smallfile in TRECfileSmall:\n",
    "            smallfile = os.path.join(TRECpathSmall, smallfile)\n",
    "            smallfiles.append(smallfile)\n",
    "        return smallfiles\n",
    "\n",
    "# PATH TO YOUR TREC_Washington_Post_collection JSON\n",
    "myTRECfile = 'C:\\\\Users\\\\Felix\\\\github\\\\privat\\\\dis25_abgabe\\\\data\\\\wpdata\\\\data\\\\TREC_Washington_Post_collection.v4.jl'\n",
    "WpDataSmall = splitFile(myTRECfile, 30)\n",
    "\n",
    "WpDataSmall"
   ]
  },
  {
   "cell_type": "code",
   "execution_count": 4,
   "id": "0f382f93",
   "metadata": {},
   "outputs": [
    {
     "data": {
      "text/plain": [
       "['C:\\\\Users\\\\Felix\\\\github\\\\privat\\\\dis25_abgabe\\\\data\\\\wpdata\\\\data\\\\small\\\\TREC_Washington_Post1.pickle',\n",
       " 'C:\\\\Users\\\\Felix\\\\github\\\\privat\\\\dis25_abgabe\\\\data\\\\wpdata\\\\data\\\\small\\\\TREC_Washington_Post2.pickle',\n",
       " 'C:\\\\Users\\\\Felix\\\\github\\\\privat\\\\dis25_abgabe\\\\data\\\\wpdata\\\\data\\\\small\\\\TREC_Washington_Post3.pickle',\n",
       " 'C:\\\\Users\\\\Felix\\\\github\\\\privat\\\\dis25_abgabe\\\\data\\\\wpdata\\\\data\\\\small\\\\TREC_Washington_Post4.pickle']"
      ]
     },
     "execution_count": 4,
     "metadata": {},
     "output_type": "execute_result"
    }
   ],
   "source": [
    "def SmallFilesToPickle(listOfSmallFiles):\n",
    "    fileending = listOfSmallFiles[0]\n",
    "    fileending = pathlib.Path(fileending).suffix\n",
    "    fileending = fileending[1:]\n",
    "    if fileending == 'jl':\n",
    "        listOfSmallFilesPickle = []\n",
    "        for filename in listOfSmallFiles:\n",
    "            df = pd.read_json(filename, lines=True)\n",
    "\n",
    "            # Drop empty rows\n",
    "            df.dropna(inplace = True)\n",
    "\n",
    "            # delete duplicated and unnecessary columns\n",
    "            if 'contents' in df.columns:\n",
    "                df = df.drop(columns='contents')\n",
    "            #if 'article_url' in df.columns:\n",
    "            #    df = df.drop(columns='article_url')\n",
    "            if 'type' in df.columns:\n",
    "                df = df.drop(columns='type')\n",
    "            if 'source' in df.columns:\n",
    "                df = df.drop(columns='source')\n",
    "\n",
    "            filenamemeameOld = filename\n",
    "            fileNameNew = filename[:-3]+'.pickle'\n",
    "            os.remove(filenamemeameOld)\n",
    "            df.to_pickle(fileNameNew)\n",
    "            listOfSmallFilesPickle.append(fileNameNew)\n",
    "            del df\n",
    "        return listOfSmallFilesPickle\n",
    "    elif fileending == 'pickle':\n",
    "        return listOfSmallFiles\n",
    "    else:\n",
    "        return None\n",
    "\n",
    "WpDataSmall = SmallFilesToPickle(WpDataSmall)\n",
    "\n",
    "WpDataSmall"
   ]
  },
  {
   "cell_type": "code",
   "execution_count": 5,
   "id": "82ba196f",
   "metadata": {},
   "outputs": [
    {
     "data": {
      "text/plain": [
       "['C:\\\\Users\\\\Felix\\\\github\\\\privat\\\\dis25_abgabe\\\\data\\\\wpdata\\\\data\\\\small\\\\TREC_Washington_Post1.pickle']"
      ]
     },
     "execution_count": 5,
     "metadata": {},
     "output_type": "execute_result"
    }
   ],
   "source": [
    "# ----------------- LÖSCHEN WENN ALLE FILES GENUTZT WERDEN SOLLEN  --------------\n",
    "\n",
    "del WpDataSmall[1:]\n",
    "WpDataSmall\n",
    "\n",
    "# -------------------------------------------------------------------------------"
   ]
  },
  {
   "cell_type": "code",
   "execution_count": 6,
   "id": "8627ed82",
   "metadata": {},
   "outputs": [],
   "source": [
    "def createDfFromSmallFiles(listOfSmallFiles):\n",
    "    fileending = listOfSmallFiles[0]\n",
    "    fileending = pathlib.Path(fileending).suffix\n",
    "    fileending = fileending[1:]\n",
    "    if fileending == 'pickle':\n",
    "        list_of_dataframes = []\n",
    "        for filename in listOfSmallFiles:\n",
    "            to_merge_df = pd.read_pickle(filename)\n",
    "            list_of_dataframes.append(to_merge_df)\n",
    "\n",
    "        # write all small dataframes in one big dataframe\n",
    "        df = pd.concat(list_of_dataframes)        \n",
    "\n",
    "        # delete the small dataframes for more memory\n",
    "        del to_merge_df\n",
    "        del list_of_dataframes\n",
    "\n",
    "        return df\n",
    "\n",
    "df = createDfFromSmallFiles(WpDataSmall)\n",
    "\n",
    "# Drop empty rows\n",
    "df.dropna(inplace = True)\n",
    "\n",
    "# Randomize the rows and reset a new id\n",
    "df = df.sample(frac=1).reset_index(drop=True)"
   ]
  },
  {
   "cell_type": "code",
   "execution_count": 7,
   "id": "fb7d76d7",
   "metadata": {},
   "outputs": [
    {
     "data": {
      "text/html": [
       "<div>\n",
       "<style scoped>\n",
       "    .dataframe tbody tr th:only-of-type {\n",
       "        vertical-align: middle;\n",
       "    }\n",
       "\n",
       "    .dataframe tbody tr th {\n",
       "        vertical-align: top;\n",
       "    }\n",
       "\n",
       "    .dataframe thead th {\n",
       "        text-align: right;\n",
       "    }\n",
       "</style>\n",
       "<table border=\"1\" class=\"dataframe\">\n",
       "  <thead>\n",
       "    <tr style=\"text-align: right;\">\n",
       "      <th></th>\n",
       "      <th>id</th>\n",
       "      <th>article_url</th>\n",
       "      <th>title</th>\n",
       "      <th>author</th>\n",
       "      <th>published_date</th>\n",
       "      <th>type</th>\n",
       "      <th>source</th>\n",
       "      <th>content</th>\n",
       "    </tr>\n",
       "  </thead>\n",
       "  <tbody>\n",
       "    <tr>\n",
       "      <th>0</th>\n",
       "      <td>89a053c4278d9a2f0f33c04dbb063f50</td>\n",
       "      <td>https://www.washingtonpost.com/news/morning-mi...</td>\n",
       "      <td>Ex-con accused of pretending to be a cop, and ...</td>\n",
       "      <td>Abby Ohlheiser</td>\n",
       "      <td>1413471516000</td>\n",
       "      <td>blog</td>\n",
       "      <td>The Washington Post</td>\n",
       "      <td>[{'content': 'Morning Mix', 'mime': 'text/plai...</td>\n",
       "    </tr>\n",
       "    <tr>\n",
       "      <th>1</th>\n",
       "      <td>73918e68bbfb57a73fb49228844749ec</td>\n",
       "      <td>https://www.washingtonpost.com/news/dc-sports-...</td>\n",
       "      <td>Stoglin: Maryland would be a top 25 team under...</td>\n",
       "      <td>Dan Steinberg</td>\n",
       "      <td>1397049034000</td>\n",
       "      <td>blog</td>\n",
       "      <td>The Washington Post</td>\n",
       "      <td>[{'content': 'D.C. Sports Bog', 'mime': 'text/...</td>\n",
       "    </tr>\n",
       "    <tr>\n",
       "      <th>2</th>\n",
       "      <td>6d345b8c44756fecc7c9c686f46497d6</td>\n",
       "      <td>https://www.washingtonpost.com/news/comic-riff...</td>\n",
       "      <td>SMALL PRESS EXPO: Here are your nominees for t...</td>\n",
       "      <td>Michael Cavna</td>\n",
       "      <td>1408381196000</td>\n",
       "      <td>blog</td>\n",
       "      <td>The Washington Post</td>\n",
       "      <td>[{'content': 'Comic Riffs', 'mime': 'text/plai...</td>\n",
       "    </tr>\n",
       "    <tr>\n",
       "      <th>3</th>\n",
       "      <td>b08ccbe3b2500c74a4a483c847338797</td>\n",
       "      <td>https://www.washingtonpost.com/news/capital-we...</td>\n",
       "      <td>PM Update: Scattered storms overnight; warm wi...</td>\n",
       "      <td>Angela Fritz</td>\n",
       "      <td>1435697890000</td>\n",
       "      <td>blog</td>\n",
       "      <td>The Washington Post</td>\n",
       "      <td>[{'content': 'Capital Weather Gang', 'mime': '...</td>\n",
       "    </tr>\n",
       "    <tr>\n",
       "      <th>4</th>\n",
       "      <td>6a1b7fb010c266c49059bebe93f47e05</td>\n",
       "      <td>https://www.washingtonpost.com/news/early-lead...</td>\n",
       "      <td>College softball players prove winning at life...</td>\n",
       "      <td>Marissa Payne</td>\n",
       "      <td>1399129205000</td>\n",
       "      <td>blog</td>\n",
       "      <td>The Washington Post</td>\n",
       "      <td>[{'content': 'Early Lead', 'mime': 'text/plain...</td>\n",
       "    </tr>\n",
       "    <tr>\n",
       "      <th>...</th>\n",
       "      <td>...</td>\n",
       "      <td>...</td>\n",
       "      <td>...</td>\n",
       "      <td>...</td>\n",
       "      <td>...</td>\n",
       "      <td>...</td>\n",
       "      <td>...</td>\n",
       "      <td>...</td>\n",
       "    </tr>\n",
       "    <tr>\n",
       "      <th>193187</th>\n",
       "      <td>81e4a998f29267fc704e0b02b91968d1</td>\n",
       "      <td>https://www.washingtonpost.com/news/dc-sports-...</td>\n",
       "      <td>Chris Webber tells Robert Griffin III world’s ...</td>\n",
       "      <td>Dan Steinberg</td>\n",
       "      <td>1399920787000</td>\n",
       "      <td>blog</td>\n",
       "      <td>The Washington Post</td>\n",
       "      <td>[{'content': 'D.C. Sports Bog', 'mime': 'text/...</td>\n",
       "    </tr>\n",
       "    <tr>\n",
       "      <th>193188</th>\n",
       "      <td>0f01dc61c03c3070ad6aabdfe59da8cc</td>\n",
       "      <td>https://www.washingtonpost.com/blogs/compost/w...</td>\n",
       "      <td>Dennis Rodman’s weird, terrible, un-Wonderful ...</td>\n",
       "      <td>Alexandra Petri</td>\n",
       "      <td>1379437363000</td>\n",
       "      <td>blog</td>\n",
       "      <td>The Washington Post</td>\n",
       "      <td>[{'content': 'ComPost', 'mime': 'text/plain', ...</td>\n",
       "    </tr>\n",
       "    <tr>\n",
       "      <th>193189</th>\n",
       "      <td>a260f536f1e41dbcf208ca7ebfd762b3</td>\n",
       "      <td>https://www.washingtonpost.com/news/post-polit...</td>\n",
       "      <td>Cleveland and Dallas are finalists to host 201...</td>\n",
       "      <td>Sean Sullivan</td>\n",
       "      <td>1403721565000</td>\n",
       "      <td>blog</td>\n",
       "      <td>The Washington Post</td>\n",
       "      <td>[{'content': 'Post Politics', 'mime': 'text/pl...</td>\n",
       "    </tr>\n",
       "    <tr>\n",
       "      <th>193190</th>\n",
       "      <td>46ac96ce-482c-11e1-bfd9-c630ec256905</td>\n",
       "      <td>https://www.washingtonpost.com/sports/highscho...</td>\n",
       "      <td>Boys’ basketball: At 5-9, Ashe plays big for F...</td>\n",
       "      <td>James Wagner</td>\n",
       "      <td>1327609413000</td>\n",
       "      <td>article</td>\n",
       "      <td>The Washington Post</td>\n",
       "      <td>[{'content': 'AllMetSports', 'mime': 'text/pla...</td>\n",
       "    </tr>\n",
       "    <tr>\n",
       "      <th>193191</th>\n",
       "      <td>3ef159fc72921936c635148cc0ec19c5</td>\n",
       "      <td>https://www.washingtonpost.com/news/capital-we...</td>\n",
       "      <td>Capital Weather Gang 2014 summer outlook: A lo...</td>\n",
       "      <td>Matt Ross</td>\n",
       "      <td>1401373242000</td>\n",
       "      <td>blog</td>\n",
       "      <td>The Washington Post</td>\n",
       "      <td>[{'content': 'Capital Weather Gang', 'mime': '...</td>\n",
       "    </tr>\n",
       "  </tbody>\n",
       "</table>\n",
       "<p>193192 rows × 8 columns</p>\n",
       "</div>"
      ],
      "text/plain": [
       "                                          id  \\\n",
       "0           89a053c4278d9a2f0f33c04dbb063f50   \n",
       "1           73918e68bbfb57a73fb49228844749ec   \n",
       "2           6d345b8c44756fecc7c9c686f46497d6   \n",
       "3           b08ccbe3b2500c74a4a483c847338797   \n",
       "4           6a1b7fb010c266c49059bebe93f47e05   \n",
       "...                                      ...   \n",
       "193187      81e4a998f29267fc704e0b02b91968d1   \n",
       "193188      0f01dc61c03c3070ad6aabdfe59da8cc   \n",
       "193189      a260f536f1e41dbcf208ca7ebfd762b3   \n",
       "193190  46ac96ce-482c-11e1-bfd9-c630ec256905   \n",
       "193191      3ef159fc72921936c635148cc0ec19c5   \n",
       "\n",
       "                                              article_url  \\\n",
       "0       https://www.washingtonpost.com/news/morning-mi...   \n",
       "1       https://www.washingtonpost.com/news/dc-sports-...   \n",
       "2       https://www.washingtonpost.com/news/comic-riff...   \n",
       "3       https://www.washingtonpost.com/news/capital-we...   \n",
       "4       https://www.washingtonpost.com/news/early-lead...   \n",
       "...                                                   ...   \n",
       "193187  https://www.washingtonpost.com/news/dc-sports-...   \n",
       "193188  https://www.washingtonpost.com/blogs/compost/w...   \n",
       "193189  https://www.washingtonpost.com/news/post-polit...   \n",
       "193190  https://www.washingtonpost.com/sports/highscho...   \n",
       "193191  https://www.washingtonpost.com/news/capital-we...   \n",
       "\n",
       "                                                    title           author  \\\n",
       "0       Ex-con accused of pretending to be a cop, and ...   Abby Ohlheiser   \n",
       "1       Stoglin: Maryland would be a top 25 team under...    Dan Steinberg   \n",
       "2       SMALL PRESS EXPO: Here are your nominees for t...    Michael Cavna   \n",
       "3       PM Update: Scattered storms overnight; warm wi...     Angela Fritz   \n",
       "4       College softball players prove winning at life...    Marissa Payne   \n",
       "...                                                   ...              ...   \n",
       "193187  Chris Webber tells Robert Griffin III world’s ...    Dan Steinberg   \n",
       "193188  Dennis Rodman’s weird, terrible, un-Wonderful ...  Alexandra Petri   \n",
       "193189  Cleveland and Dallas are finalists to host 201...    Sean Sullivan   \n",
       "193190  Boys’ basketball: At 5-9, Ashe plays big for F...     James Wagner   \n",
       "193191  Capital Weather Gang 2014 summer outlook: A lo...        Matt Ross   \n",
       "\n",
       "        published_date     type               source  \\\n",
       "0        1413471516000     blog  The Washington Post   \n",
       "1        1397049034000     blog  The Washington Post   \n",
       "2        1408381196000     blog  The Washington Post   \n",
       "3        1435697890000     blog  The Washington Post   \n",
       "4        1399129205000     blog  The Washington Post   \n",
       "...                ...      ...                  ...   \n",
       "193187   1399920787000     blog  The Washington Post   \n",
       "193188   1379437363000     blog  The Washington Post   \n",
       "193189   1403721565000     blog  The Washington Post   \n",
       "193190   1327609413000  article  The Washington Post   \n",
       "193191   1401373242000     blog  The Washington Post   \n",
       "\n",
       "                                                  content  \n",
       "0       [{'content': 'Morning Mix', 'mime': 'text/plai...  \n",
       "1       [{'content': 'D.C. Sports Bog', 'mime': 'text/...  \n",
       "2       [{'content': 'Comic Riffs', 'mime': 'text/plai...  \n",
       "3       [{'content': 'Capital Weather Gang', 'mime': '...  \n",
       "4       [{'content': 'Early Lead', 'mime': 'text/plain...  \n",
       "...                                                   ...  \n",
       "193187  [{'content': 'D.C. Sports Bog', 'mime': 'text/...  \n",
       "193188  [{'content': 'ComPost', 'mime': 'text/plain', ...  \n",
       "193189  [{'content': 'Post Politics', 'mime': 'text/pl...  \n",
       "193190  [{'content': 'AllMetSports', 'mime': 'text/pla...  \n",
       "193191  [{'content': 'Capital Weather Gang', 'mime': '...  \n",
       "\n",
       "[193192 rows x 8 columns]"
      ]
     },
     "execution_count": 7,
     "metadata": {},
     "output_type": "execute_result"
    }
   ],
   "source": [
    "#%%time\n",
    "\n",
    "'''with open('.../Downloads/WashingtonPost.v4/data/TREC_Washington_Post_collection.v4.jl') as json_file:      \n",
    "    data = json_file.readlines()\n",
    "    # this line below may take at least 8-10 minutes of processing for 4-5 million rows. It converts all strings in list to actual json objects. \n",
    "    data = list(map(json.loads, data)) \n",
    "\n",
    "df = pd.DataFrame(data)'''\n",
    "\n",
    "\n",
    "'''filename = \".../Downloads/WashingtonPost.v4/data/TREC_Washington_Post_collection.v4.jl\"\n",
    "n = sum(1 for line in open(filename)) - 1 #number of records in file (excludes header)\n",
    "s = 10000 #desired sample size\n",
    "skip = sorted(random.sample(range(1,n+1),n-s)) #the 0-indexed header will not be included in the skip list\n",
    "df = pd.read_json(filename)'''\n",
    "\n",
    "#df = pd.read_json(\".../Downloads/WashingtonPost.v4/data/TREC_Washington_Post_collection.v4.jl\", lines=True,nrows=10000)\n",
    "\n",
    "df"
   ]
  },
  {
   "cell_type": "code",
   "execution_count": 8,
   "id": "72f13b20",
   "metadata": {},
   "outputs": [
    {
     "data": {
      "application/vnd.jupyter.widget-view+json": {
       "model_id": "26ac6f1004ba4232a3ceba828488b8b6",
       "version_major": 2,
       "version_minor": 0
      },
      "text/plain": [
       "VBox(children=(HBox(children=(IntProgress(value=0, description='0.00%', max=24149), Label(value='0 / 24149')))…"
      ]
     },
     "metadata": {},
     "output_type": "display_data"
    }
   ],
   "source": [
    "def dateconvert(x):\n",
    "    try:\n",
    "        import datetime  \n",
    "        ts = datetime.datetime.fromtimestamp(x.published_date/1000)\n",
    "        # year-month-day with hours-minutes-seconds\n",
    "        #date = ts.strftime('%Y-%m-%d %H:%M:%S')\n",
    "        # year-month-day without time\n",
    "        date = ts.strftime('%Y-%m-%d')\n",
    "        return date\n",
    "    except:\n",
    "        return x.published_date\n",
    "\n",
    "# converts the epochs datetime to a normale datestring\n",
    "df['published_date'] = df.parallel_apply(dateconvert, axis=1)"
   ]
  },
  {
   "cell_type": "code",
   "execution_count": 9,
   "id": "fbe914e6",
   "metadata": {},
   "outputs": [
    {
     "data": {
      "application/vnd.jupyter.widget-view+json": {
       "model_id": "c1a61a3c0403477a81d199252d3595f6",
       "version_major": 2,
       "version_minor": 0
      },
      "text/plain": [
       "VBox(children=(HBox(children=(IntProgress(value=0, description='0.00%', max=24149), Label(value='0 / 24149')))…"
      ]
     },
     "metadata": {},
     "output_type": "display_data"
    }
   ],
   "source": [
    "def createText(x):\n",
    "    try:\n",
    "        import pandas as pd\n",
    "        dfcontent = pd.json_normalize(x.content, max_level=1)\n",
    "        dfcontent = dfcontent[dfcontent.subtype == 'paragraph']\n",
    "        #dfcontent = dfcontent[dfcontent.mime == 'text/html']\n",
    "        contentText = ''\n",
    "        \n",
    "        for index, row in dfcontent.iterrows():\n",
    "            contentText += row[\"content\"]\n",
    "            contentText += ' '\n",
    "            \n",
    "            import re\n",
    "            contentText = re.sub('<[^<]+?>', '', contentText)\n",
    "            contentText = contentText.replace(u'\\xa0', u' ')\n",
    "        #return dfcontent\n",
    "        return contentText\n",
    "    except:\n",
    "        return None\n",
    "\n",
    "# converts the epochs datetime to a normale datestring\n",
    "df['text'] = df.parallel_apply(createText, axis=1)\n",
    "\n",
    "# if content json is converted in text delete the column\n",
    "# !!! df = df.drop(columns='content')"
   ]
  },
  {
   "cell_type": "markdown",
   "id": "8f52a375",
   "metadata": {},
   "source": [
    "# | Cleaning"
   ]
  },
  {
   "cell_type": "code",
   "execution_count": 10,
   "id": "54f63ee9",
   "metadata": {},
   "outputs": [
    {
     "data": {
      "text/html": [
       "<div>\n",
       "<style scoped>\n",
       "    .dataframe tbody tr th:only-of-type {\n",
       "        vertical-align: middle;\n",
       "    }\n",
       "\n",
       "    .dataframe tbody tr th {\n",
       "        vertical-align: top;\n",
       "    }\n",
       "\n",
       "    .dataframe thead th {\n",
       "        text-align: right;\n",
       "    }\n",
       "</style>\n",
       "<table border=\"1\" class=\"dataframe\">\n",
       "  <thead>\n",
       "    <tr style=\"text-align: right;\">\n",
       "      <th></th>\n",
       "      <th>id</th>\n",
       "      <th>article_url</th>\n",
       "      <th>title</th>\n",
       "      <th>author</th>\n",
       "      <th>published_date</th>\n",
       "      <th>type</th>\n",
       "      <th>source</th>\n",
       "      <th>content</th>\n",
       "      <th>text</th>\n",
       "    </tr>\n",
       "  </thead>\n",
       "  <tbody>\n",
       "    <tr>\n",
       "      <th>0</th>\n",
       "      <td>89a053c4278d9a2f0f33c04dbb063f50</td>\n",
       "      <td>https://www.washingtonpost.com/news/morning-mi...</td>\n",
       "      <td>Ex-con accused of pretending to be a cop, and ...</td>\n",
       "      <td>Abby Ohlheiser</td>\n",
       "      <td>2014-10-16</td>\n",
       "      <td>blog</td>\n",
       "      <td>The Washington Post</td>\n",
       "      <td>[{'content': 'Morning Mix', 'mime': 'text/plai...</td>\n",
       "      <td>When Roberto Eddy Santos left prison, he chang...</td>\n",
       "    </tr>\n",
       "    <tr>\n",
       "      <th>1</th>\n",
       "      <td>73918e68bbfb57a73fb49228844749ec</td>\n",
       "      <td>https://www.washingtonpost.com/news/dc-sports-...</td>\n",
       "      <td>Stoglin: Maryland would be a top 25 team under...</td>\n",
       "      <td>Dan Steinberg</td>\n",
       "      <td>2014-04-09</td>\n",
       "      <td>blog</td>\n",
       "      <td>The Washington Post</td>\n",
       "      <td>[{'content': 'D.C. Sports Bog', 'mime': 'text/...</td>\n",
       "      <td>As news came out Monday afternoon that three h...</td>\n",
       "    </tr>\n",
       "    <tr>\n",
       "      <th>2</th>\n",
       "      <td>6d345b8c44756fecc7c9c686f46497d6</td>\n",
       "      <td>https://www.washingtonpost.com/news/comic-riff...</td>\n",
       "      <td>SMALL PRESS EXPO: Here are your nominees for t...</td>\n",
       "      <td>Michael Cavna</td>\n",
       "      <td>2014-08-18</td>\n",
       "      <td>blog</td>\n",
       "      <td>The Washington Post</td>\n",
       "      <td>[{'content': 'Comic Riffs', 'mime': 'text/plai...</td>\n",
       "      <td>Kim Deitch, Nick Drnaso, Sophie Goldstein and ...</td>\n",
       "    </tr>\n",
       "    <tr>\n",
       "      <th>3</th>\n",
       "      <td>b08ccbe3b2500c74a4a483c847338797</td>\n",
       "      <td>https://www.washingtonpost.com/news/capital-we...</td>\n",
       "      <td>PM Update: Scattered storms overnight; warm wi...</td>\n",
       "      <td>Angela Fritz</td>\n",
       "      <td>2015-06-30</td>\n",
       "      <td>blog</td>\n",
       "      <td>The Washington Post</td>\n",
       "      <td>[{'content': 'Capital Weather Gang', 'mime': '...</td>\n",
       "      <td>(post originally published at 4:58 p.m., updat...</td>\n",
       "    </tr>\n",
       "    <tr>\n",
       "      <th>4</th>\n",
       "      <td>6a1b7fb010c266c49059bebe93f47e05</td>\n",
       "      <td>https://www.washingtonpost.com/news/early-lead...</td>\n",
       "      <td>College softball players prove winning at life...</td>\n",
       "      <td>Marissa Payne</td>\n",
       "      <td>2014-05-03</td>\n",
       "      <td>blog</td>\n",
       "      <td>The Washington Post</td>\n",
       "      <td>[{'content': 'Early Lead', 'mime': 'text/plain...</td>\n",
       "      <td>It’s not every day that your rivals feel like ...</td>\n",
       "    </tr>\n",
       "    <tr>\n",
       "      <th>...</th>\n",
       "      <td>...</td>\n",
       "      <td>...</td>\n",
       "      <td>...</td>\n",
       "      <td>...</td>\n",
       "      <td>...</td>\n",
       "      <td>...</td>\n",
       "      <td>...</td>\n",
       "      <td>...</td>\n",
       "      <td>...</td>\n",
       "    </tr>\n",
       "    <tr>\n",
       "      <th>193187</th>\n",
       "      <td>81e4a998f29267fc704e0b02b91968d1</td>\n",
       "      <td>https://www.washingtonpost.com/news/dc-sports-...</td>\n",
       "      <td>Chris Webber tells Robert Griffin III world’s ...</td>\n",
       "      <td>Dan Steinberg</td>\n",
       "      <td>2014-05-12</td>\n",
       "      <td>blog</td>\n",
       "      <td>The Washington Post</td>\n",
       "      <td>[{'content': 'D.C. Sports Bog', 'mime': 'text/...</td>\n",
       "      <td>Possibly for the last time this postseason, Ch...</td>\n",
       "    </tr>\n",
       "    <tr>\n",
       "      <th>193188</th>\n",
       "      <td>0f01dc61c03c3070ad6aabdfe59da8cc</td>\n",
       "      <td>https://www.washingtonpost.com/blogs/compost/w...</td>\n",
       "      <td>Dennis Rodman’s weird, terrible, un-Wonderful ...</td>\n",
       "      <td>Alexandra Petri</td>\n",
       "      <td>2013-09-17</td>\n",
       "      <td>blog</td>\n",
       "      <td>The Washington Post</td>\n",
       "      <td>[{'content': 'ComPost', 'mime': 'text/plain', ...</td>\n",
       "      <td>When confronted with Dennis Rodman’s new North...</td>\n",
       "    </tr>\n",
       "    <tr>\n",
       "      <th>193189</th>\n",
       "      <td>a260f536f1e41dbcf208ca7ebfd762b3</td>\n",
       "      <td>https://www.washingtonpost.com/news/post-polit...</td>\n",
       "      <td>Cleveland and Dallas are finalists to host 201...</td>\n",
       "      <td>Sean Sullivan</td>\n",
       "      <td>2014-06-25</td>\n",
       "      <td>blog</td>\n",
       "      <td>The Washington Post</td>\n",
       "      <td>[{'content': 'Post Politics', 'mime': 'text/pl...</td>\n",
       "      <td>And then there were two. The Republican Nation...</td>\n",
       "    </tr>\n",
       "    <tr>\n",
       "      <th>193190</th>\n",
       "      <td>46ac96ce-482c-11e1-bfd9-c630ec256905</td>\n",
       "      <td>https://www.washingtonpost.com/sports/highscho...</td>\n",
       "      <td>Boys’ basketball: At 5-9, Ashe plays big for F...</td>\n",
       "      <td>James Wagner</td>\n",
       "      <td>2012-01-26</td>\n",
       "      <td>article</td>\n",
       "      <td>The Washington Post</td>\n",
       "      <td>[{'content': 'AllMetSports', 'mime': 'text/pla...</td>\n",
       "      <td>At first glance, Friendship Collegiate’s slend...</td>\n",
       "    </tr>\n",
       "    <tr>\n",
       "      <th>193191</th>\n",
       "      <td>3ef159fc72921936c635148cc0ec19c5</td>\n",
       "      <td>https://www.washingtonpost.com/news/capital-we...</td>\n",
       "      <td>Capital Weather Gang 2014 summer outlook: A lo...</td>\n",
       "      <td>Matt Ross</td>\n",
       "      <td>2014-05-29</td>\n",
       "      <td>blog</td>\n",
       "      <td>The Washington Post</td>\n",
       "      <td>[{'content': 'Capital Weather Gang', 'mime': '...</td>\n",
       "      <td>To some, it may feel like winter just ended.  ...</td>\n",
       "    </tr>\n",
       "  </tbody>\n",
       "</table>\n",
       "<p>193192 rows × 9 columns</p>\n",
       "</div>"
      ],
      "text/plain": [
       "                                          id  \\\n",
       "0           89a053c4278d9a2f0f33c04dbb063f50   \n",
       "1           73918e68bbfb57a73fb49228844749ec   \n",
       "2           6d345b8c44756fecc7c9c686f46497d6   \n",
       "3           b08ccbe3b2500c74a4a483c847338797   \n",
       "4           6a1b7fb010c266c49059bebe93f47e05   \n",
       "...                                      ...   \n",
       "193187      81e4a998f29267fc704e0b02b91968d1   \n",
       "193188      0f01dc61c03c3070ad6aabdfe59da8cc   \n",
       "193189      a260f536f1e41dbcf208ca7ebfd762b3   \n",
       "193190  46ac96ce-482c-11e1-bfd9-c630ec256905   \n",
       "193191      3ef159fc72921936c635148cc0ec19c5   \n",
       "\n",
       "                                              article_url  \\\n",
       "0       https://www.washingtonpost.com/news/morning-mi...   \n",
       "1       https://www.washingtonpost.com/news/dc-sports-...   \n",
       "2       https://www.washingtonpost.com/news/comic-riff...   \n",
       "3       https://www.washingtonpost.com/news/capital-we...   \n",
       "4       https://www.washingtonpost.com/news/early-lead...   \n",
       "...                                                   ...   \n",
       "193187  https://www.washingtonpost.com/news/dc-sports-...   \n",
       "193188  https://www.washingtonpost.com/blogs/compost/w...   \n",
       "193189  https://www.washingtonpost.com/news/post-polit...   \n",
       "193190  https://www.washingtonpost.com/sports/highscho...   \n",
       "193191  https://www.washingtonpost.com/news/capital-we...   \n",
       "\n",
       "                                                    title           author  \\\n",
       "0       Ex-con accused of pretending to be a cop, and ...   Abby Ohlheiser   \n",
       "1       Stoglin: Maryland would be a top 25 team under...    Dan Steinberg   \n",
       "2       SMALL PRESS EXPO: Here are your nominees for t...    Michael Cavna   \n",
       "3       PM Update: Scattered storms overnight; warm wi...     Angela Fritz   \n",
       "4       College softball players prove winning at life...    Marissa Payne   \n",
       "...                                                   ...              ...   \n",
       "193187  Chris Webber tells Robert Griffin III world’s ...    Dan Steinberg   \n",
       "193188  Dennis Rodman’s weird, terrible, un-Wonderful ...  Alexandra Petri   \n",
       "193189  Cleveland and Dallas are finalists to host 201...    Sean Sullivan   \n",
       "193190  Boys’ basketball: At 5-9, Ashe plays big for F...     James Wagner   \n",
       "193191  Capital Weather Gang 2014 summer outlook: A lo...        Matt Ross   \n",
       "\n",
       "       published_date     type               source  \\\n",
       "0          2014-10-16     blog  The Washington Post   \n",
       "1          2014-04-09     blog  The Washington Post   \n",
       "2          2014-08-18     blog  The Washington Post   \n",
       "3          2015-06-30     blog  The Washington Post   \n",
       "4          2014-05-03     blog  The Washington Post   \n",
       "...               ...      ...                  ...   \n",
       "193187     2014-05-12     blog  The Washington Post   \n",
       "193188     2013-09-17     blog  The Washington Post   \n",
       "193189     2014-06-25     blog  The Washington Post   \n",
       "193190     2012-01-26  article  The Washington Post   \n",
       "193191     2014-05-29     blog  The Washington Post   \n",
       "\n",
       "                                                  content  \\\n",
       "0       [{'content': 'Morning Mix', 'mime': 'text/plai...   \n",
       "1       [{'content': 'D.C. Sports Bog', 'mime': 'text/...   \n",
       "2       [{'content': 'Comic Riffs', 'mime': 'text/plai...   \n",
       "3       [{'content': 'Capital Weather Gang', 'mime': '...   \n",
       "4       [{'content': 'Early Lead', 'mime': 'text/plain...   \n",
       "...                                                   ...   \n",
       "193187  [{'content': 'D.C. Sports Bog', 'mime': 'text/...   \n",
       "193188  [{'content': 'ComPost', 'mime': 'text/plain', ...   \n",
       "193189  [{'content': 'Post Politics', 'mime': 'text/pl...   \n",
       "193190  [{'content': 'AllMetSports', 'mime': 'text/pla...   \n",
       "193191  [{'content': 'Capital Weather Gang', 'mime': '...   \n",
       "\n",
       "                                                     text  \n",
       "0       When Roberto Eddy Santos left prison, he chang...  \n",
       "1       As news came out Monday afternoon that three h...  \n",
       "2       Kim Deitch, Nick Drnaso, Sophie Goldstein and ...  \n",
       "3       (post originally published at 4:58 p.m., updat...  \n",
       "4       It’s not every day that your rivals feel like ...  \n",
       "...                                                   ...  \n",
       "193187  Possibly for the last time this postseason, Ch...  \n",
       "193188  When confronted with Dennis Rodman’s new North...  \n",
       "193189  And then there were two. The Republican Nation...  \n",
       "193190  At first glance, Friendship Collegiate’s slend...  \n",
       "193191  To some, it may feel like winter just ended.  ...  \n",
       "\n",
       "[193192 rows x 9 columns]"
      ]
     },
     "execution_count": 10,
     "metadata": {},
     "output_type": "execute_result"
    }
   ],
   "source": [
    "df"
   ]
  },
  {
   "cell_type": "code",
   "execution_count": null,
   "id": "b36059f6",
   "metadata": {
    "scrolled": true
   },
   "outputs": [],
   "source": [
    "with pd.option_context('display.max_colwidth', None):\n",
    "  display(df[:2])"
   ]
  },
  {
   "cell_type": "code",
   "execution_count": null,
   "id": "e755a947",
   "metadata": {},
   "outputs": [],
   "source": [
    "def cleaning_for_NER(df):\n",
    "    \n",
    "    '''dictionary = {\n",
    "              \"id\"                     : \"oid\",\n",
    "              \"name\"                   : \"article_title\",\n",
    "              'teaser'                 : 'article_teaser',\n",
    "              \"text\"                   : \"article_text\",\n",
    "              \"regions\"                : \"cms_regions\"\n",
    "                }\n",
    "    '''\n",
    "    df = df.copy()\n",
    "    #df.rename(columns=dictionary, inplace=True)  # rename columns\n",
    "    df.drop_duplicates(subset=['id'], inplace=True)\n",
    "\n",
    "    # Remove \"\\n\" in article_text\n",
    "    df[\"content\"] = df[\"content\"].apply(lambda x: re.sub(\"\\{'content': '\",\" \", str(x)))\n",
    " \n",
    "    return df    "
   ]
  },
  {
   "cell_type": "code",
   "execution_count": null,
   "id": "4f3fc957",
   "metadata": {},
   "outputs": [],
   "source": [
    "# Safe cleaned data in new df\n",
    "df = cleaning_for_NER(df)"
   ]
  },
  {
   "cell_type": "code",
   "execution_count": null,
   "id": "19af5202",
   "metadata": {},
   "outputs": [],
   "source": [
    "#df.drop(columns = ['contents'], inplace = True)\n",
    "df"
   ]
  },
  {
   "cell_type": "code",
   "execution_count": null,
   "id": "d6286bf6",
   "metadata": {},
   "outputs": [],
   "source": [
    "# drop empty rows\n",
    "nan_value = float(\"NaN\")\n",
    "df.replace(\"\", 'no title', inplace=True)\n",
    "df[\"title\"].replace(np.NaN, 'no title', inplace=True)\n",
    "\n",
    "#df.dropna(subset = [\"title\"], inplace=True)"
   ]
  },
  {
   "cell_type": "code",
   "execution_count": null,
   "id": "2bbe6ee7",
   "metadata": {},
   "outputs": [],
   "source": [
    "# Combine column \"title\" & \"content\" into \"merged_total_text\":\n",
    "df['merged_total_text'] = df.apply(lambda r: r['title'] + r['content'], axis=1)"
   ]
  },
  {
   "cell_type": "code",
   "execution_count": null,
   "id": "a590d8cc",
   "metadata": {},
   "outputs": [],
   "source": [
    "print(df.head(2))"
   ]
  },
  {
   "cell_type": "markdown",
   "id": "23f91798",
   "metadata": {},
   "source": [
    "# | Named Entity Recognition w/ spaCy"
   ]
  },
  {
   "cell_type": "code",
   "execution_count": null,
   "id": "f638931c",
   "metadata": {},
   "outputs": [],
   "source": [
    "df_1 = df.copy()"
   ]
  },
  {
   "cell_type": "code",
   "execution_count": null,
   "id": "b303ad70",
   "metadata": {},
   "outputs": [],
   "source": [
    "# write entity in parsed_articles \n",
    "import tqdm\n",
    "parsed_articles = []\n",
    "for article, id in tqdm.tqdm(zip(df_1['content'], df_1['id']), total=len(df_1)):\n",
    "    parsed_articles.extend([[id, str(entity), entity.label_] for entity  in nlp(article).ents])"
   ]
  },
  {
   "cell_type": "code",
   "execution_count": null,
   "id": "1d6acef1",
   "metadata": {},
   "outputs": [],
   "source": [
    "# create dfs from entities\n",
    "df_2 = pd.DataFrame(parsed_articles, columns=['id', 'content', 'entity_type'])\n",
    "\n",
    "# rename columns for one df\n",
    "df_2.rename(columns={'content': 'entity'}, inplace=True)"
   ]
  },
  {
   "cell_type": "code",
   "execution_count": null,
   "id": "f3667edf",
   "metadata": {},
   "outputs": [],
   "source": [
    "# merge back to initial df\n",
    "df = (pd.merge(df_1, df_2, on='id'))"
   ]
  },
  {
   "cell_type": "code",
   "execution_count": null,
   "id": "a07dd4a7",
   "metadata": {},
   "outputs": [],
   "source": [
    "df.to_pickle(r\"Washington_Post_NER_all_10K.pkl\")"
   ]
  },
  {
   "cell_type": "code",
   "execution_count": null,
   "id": "115be47b",
   "metadata": {},
   "outputs": [],
   "source": [
    "df_ner = df.copy()"
   ]
  },
  {
   "cell_type": "code",
   "execution_count": null,
   "id": "6b7f8be8",
   "metadata": {},
   "outputs": [],
   "source": [
    "df = pd.read_pickle(\"/Users/landsiedelj/Downloads/Washington_Post_NER_all_10K.pkl\")"
   ]
  },
  {
   "cell_type": "code",
   "execution_count": null,
   "id": "a782f08d",
   "metadata": {},
   "outputs": [],
   "source": [
    "# NER 'PERSON' STARTS HERE\n",
    "df = (df.loc[df['entity_type'].isin(['PERSON'])])"
   ]
  },
  {
   "cell_type": "code",
   "execution_count": null,
   "id": "f399264f",
   "metadata": {},
   "outputs": [],
   "source": [
    "df[\"entity\"] = df['entity'].str.replace('[\\[\\]\\\"\\'\\d\\,\\<\\/]','')\n"
   ]
  },
  {
   "cell_type": "code",
   "execution_count": null,
   "id": "615ea840",
   "metadata": {},
   "outputs": [],
   "source": [
    "# Replace artist names (Sting, Bono, Cher etc.) with name according to wikipedia\n",
    "# TO do: write into dict?\n",
    "df['entity'] = df['entity'].str.replace('JFK','John Fitzgerald Kennedy')\n",
    "df['entity'] = df['entity'].str.replace('FDR','Franklin Delano Roosevelt')\n",
    "df['entity'] = df['entity'].str.replace('Sting','Gordon Matthew Sumner')\n",
    "df['entity'] = df['entity'].str.replace('Bono','Paul David Hewson')\n",
    "df['entity'] = df['entity'].str.replace('Cher','Cherilyn Sarkisian')\n",
    "df['entity'] = df['entity'].str.replace('Madonna','Madonna Louise Ciccone')\n",
    "df['entity'] = df['entity'].str.replace('Adele','Adele Laurie Adkins')\n",
    "df['entity'] = df['entity'].str.replace('Eminem','Marshall Bruce Mathers')\n",
    "df['entity'] = df['entity'].str.replace('Beyonce','Beyoncé Knowles-Carter')\n",
    "df['entity'] = df['entity'].str.replace('Blaine Friedlander','Blaine P. Friedlander Jr.')"
   ]
  },
  {
   "cell_type": "code",
   "execution_count": null,
   "id": "a86599f8",
   "metadata": {},
   "outputs": [],
   "source": [
    "df[:40]"
   ]
  },
  {
   "cell_type": "code",
   "execution_count": null,
   "id": "243f8c34",
   "metadata": {},
   "outputs": [],
   "source": [
    "df = df[df['author'] != df['entity']] # if author is in col entity -> remove, we only want \"Person\" from within the article\n",
    "# To do: Blaine P. Friedlander Jr. vs. Blaine Friedlander "
   ]
  },
  {
   "cell_type": "markdown",
   "id": "ed8406a0",
   "metadata": {},
   "source": [
    "## Split first, middle and last name in different cols"
   ]
  },
  {
   "cell_type": "code",
   "execution_count": null,
   "id": "2264efef",
   "metadata": {},
   "outputs": [],
   "source": [
    "# Write first, middle and last name in different cols\n",
    "# to do: split middle and last name does not work\n",
    "def split_name(df, var):\n",
    "    sub_df = df[var].str.split('\\\\s+', expand=True)\n",
    "    result = []\n",
    "\n",
    "    for _, row in sub_df.iterrows():\n",
    "        info = {'first_name': '', 'middle_name': '', 'last_name': ''}\n",
    "        n = row.count()\n",
    "\n",
    "        if n == 0:\n",
    "            pass\n",
    "        elif n == 1:\n",
    "            info['last_name'] = row.iloc[0]\n",
    "        elif n == 2:\n",
    "            info['first_name'], info['last_name'] = row.iloc[:2]\n",
    "        else:\n",
    "            info['first_name'] = row.iloc[0]\n",
    "            info['last_name'] = row.iloc[-1]\n",
    "            info['middle_name'] = ' '.join([(string or '') for string in row.iloc[1:-1]])\n",
    "        result.append(info)\n",
    "    return pd.DataFrame(result, index=df.index)\n",
    "\n",
    "df_names = split_name(df, 'entity')\n",
    "df = df.join(df_names)"
   ]
  },
  {
   "cell_type": "markdown",
   "id": "2babd5fb",
   "metadata": {},
   "source": [
    "## | Enrich first name if only last name is mentioned"
   ]
  },
  {
   "cell_type": "code",
   "execution_count": null,
   "id": "bd390b06",
   "metadata": {},
   "outputs": [],
   "source": [
    "names = df.groupby('id')['entity'].apply(lambda x: list(np.unique(x)))\n",
    "# To do: if only one token (\"Obama\") drop or don't write to list"
   ]
  },
  {
   "cell_type": "code",
   "execution_count": null,
   "id": "afb53db7",
   "metadata": {},
   "outputs": [],
   "source": [
    "# function for enriching first name if only last name is mentioned\n",
    "from tqdm import tqdm\n",
    "tqdm.pandas()\n",
    "def enrich_firstname(row):\n",
    "    \n",
    "    entity = row['entity']#.copy()\n",
    "    firstname = row['first_name']#.copy()\n",
    "    lastname = row['last_name']#.copy()\n",
    "    \n",
    "    \n",
    "    #if len(firstname) == 0:\n",
    "        # look in list per id for key and write value?\n",
    "    # elif \n",
    "    # bestehende Vornamen nicht überschreiben\n",
    "    #else:\n",
    "    #    row['first_name'] = 'unknown'\n",
    "    return row\n",
    "\n",
    "df_test = df_test.progress_apply(enrich_firstname, axis=1)\n"
   ]
  },
  {
   "cell_type": "markdown",
   "id": "2272523a",
   "metadata": {},
   "source": [
    "# | Gender Guesser"
   ]
  },
  {
   "cell_type": "code",
   "execution_count": null,
   "id": "22e0edb0",
   "metadata": {},
   "outputs": [],
   "source": [
    "# !pip install gender_guesser    \n",
    "import gender_guesser.detector as gender\n",
    "gd = gender.Detector()\n",
    "df['gender_guesser'] = df['first_name'].apply(str.capitalize).map(lambda x: gd.get_gender(x))"
   ]
  },
  {
   "cell_type": "markdown",
   "id": "0e692a68",
   "metadata": {},
   "source": [
    "> __unknown__ (name not found), __andy__ (androgynous), __male__, __female__, __mostly_male__, or __mostly_female__. The difference between andy and unknown is that the former is found to have the same probability to be male than to be female, while the later means that the name wasn’t found in the database."
   ]
  },
  {
   "cell_type": "code",
   "execution_count": null,
   "id": "ba8ccb41",
   "metadata": {},
   "outputs": [],
   "source": [
    "df.gender_guesser.value_counts()"
   ]
  },
  {
   "cell_type": "code",
   "execution_count": null,
   "id": "c6733aa7",
   "metadata": {},
   "outputs": [],
   "source": [
    "df.loc[df['gender_guesser'] == 'unknown'][:40]"
   ]
  },
  {
   "cell_type": "code",
   "execution_count": null,
   "id": "861a46b4",
   "metadata": {},
   "outputs": [],
   "source": [
    "# df.first_name.value_counts()[:40]"
   ]
  },
  {
   "cell_type": "code",
   "execution_count": null,
   "id": "36b810fc",
   "metadata": {},
   "outputs": [],
   "source": [
    "# to do:\n",
    "# Namen cleanen\n",
    "# weitere lib für gender identification einbauen\n",
    "# function schreiben: wenn nur Nachname genannt, schaue in Liste/anderer Zeile pro Artikel, ob Name schon genannt, dann Vorname auffüllen\n",
    "# oder\n",
    "# wenn Obama, Santorum, Gingrich, etc. dann aus erstellter Liste oder via Wikidata mit Vornamen auffüllen\n",
    "# # dominique rodgers cromartie etc. (famous people)  -> Wikidata? "
   ]
  },
  {
   "cell_type": "markdown",
   "id": "99e9d515",
   "metadata": {},
   "source": [
    "# | Group per article and get share of gender per article"
   ]
  },
  {
   "cell_type": "code",
   "execution_count": null,
   "id": "645c39a8",
   "metadata": {},
   "outputs": [],
   "source": [
    "# next"
   ]
  },
  {
   "cell_type": "markdown",
   "id": "79938820",
   "metadata": {},
   "source": [
    "# | Wikidata Query"
   ]
  },
  {
   "cell_type": "code",
   "execution_count": null,
   "id": "47791fd3",
   "metadata": {},
   "outputs": [],
   "source": [
    "# oder das https://stackoverflow.com/questions/51419785/extract-data-from-wikidata-in-python\n",
    "\n",
    "import requests\n",
    "\n",
    "sparql_query = \"\"\"\n",
    "        prefix schema: <http://schema.org/>\n",
    "        SELECT ?item ?occupation ?genderLabel ?bdayLabel\n",
    "        WHERE {\n",
    "            <https://en.wikipedia.org/wiki/Angela_Merkel> schema:about ?item .\n",
    "            ?item wdt:P21 ?gender .\n",
    "            SERVICE wikibase:label { bd:serviceParam wikibase:language \"en\" }\n",
    "        }\n",
    "    \"\"\""
   ]
  },
  {
   "cell_type": "code",
   "execution_count": null,
   "id": "78b4a30e",
   "metadata": {},
   "outputs": [],
   "source": [
    "url = 'https://query.wikidata.org/sparql'\n",
    "\n",
    "# sleep(2)\n",
    "r = requests.get(url, params={'format': 'json', 'query': sparql_query})"
   ]
  },
  {
   "cell_type": "code",
   "execution_count": null,
   "id": "07a30180",
   "metadata": {},
   "outputs": [],
   "source": [
    "url = 'https://query.wikidata.org/sparql'\n",
    "\n",
    "r = requests.get(url, params={'format': 'json', 'query': sparql_query})\n",
    "data = r.json()\n",
    "\n",
    "print(data['results']['bindings'])"
   ]
  }
 ],
 "metadata": {
  "kernelspec": {
   "display_name": "Python 3 (ipykernel)",
   "language": "python",
   "name": "python3"
  },
  "language_info": {
   "codemirror_mode": {
    "name": "ipython",
    "version": 3
   },
   "file_extension": ".py",
   "mimetype": "text/x-python",
   "name": "python",
   "nbconvert_exporter": "python",
   "pygments_lexer": "ipython3",
   "version": "3.8.13"
  },
  "toc": {
   "base_numbering": 1,
   "nav_menu": {},
   "number_sections": true,
   "sideBar": false,
   "skip_h1_title": false,
   "title_cell": "Table of Contents",
   "title_sidebar": "Contents",
   "toc_cell": true,
   "toc_position": {},
   "toc_section_display": true,
   "toc_window_display": false
  }
 },
 "nbformat": 4,
 "nbformat_minor": 5
}
